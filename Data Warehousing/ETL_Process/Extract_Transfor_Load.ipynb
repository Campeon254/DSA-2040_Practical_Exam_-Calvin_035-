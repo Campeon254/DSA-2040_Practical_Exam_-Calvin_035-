{
 "cells": [
  {
   "cell_type": "markdown",
   "id": "b0e7586c",
   "metadata": {},
   "source": [
    "## 1) Extraction\n",
    "The first step in the ETL process is to extract data from various source systems. In this case, we will extract data from UC Irvine's Machine Learning Repository. To do this, we will use the `ucimlrepo` package to fetch the dataset."
   ]
  },
  {
   "cell_type": "code",
   "execution_count": 102,
   "id": "3cb96cf2",
   "metadata": {},
   "outputs": [
    {
     "data": {
      "application/vnd.microsoft.datawrangler.viewer.v0+json": {
       "columns": [
        {
         "name": "index",
         "rawType": "int64",
         "type": "integer"
        },
        {
         "name": "Description",
         "rawType": "object",
         "type": "string"
        },
        {
         "name": "Quantity",
         "rawType": "int64",
         "type": "integer"
        },
        {
         "name": "InvoiceDate",
         "rawType": "object",
         "type": "string"
        },
        {
         "name": "UnitPrice",
         "rawType": "float64",
         "type": "float"
        },
        {
         "name": "CustomerID",
         "rawType": "float64",
         "type": "float"
        },
        {
         "name": "Country",
         "rawType": "object",
         "type": "string"
        }
       ],
       "ref": "41119909-23a6-4175-ac33-d8ee76a0a635",
       "rows": [
        [
         "0",
         "WHITE HANGING HEART T-LIGHT HOLDER",
         "6",
         "12/1/2010 8:26",
         "2.55",
         "17850.0",
         "United Kingdom"
        ],
        [
         "1",
         "WHITE METAL LANTERN",
         "6",
         "12/1/2010 8:26",
         "3.39",
         "17850.0",
         "United Kingdom"
        ],
        [
         "2",
         "CREAM CUPID HEARTS COAT HANGER",
         "8",
         "12/1/2010 8:26",
         "2.75",
         "17850.0",
         "United Kingdom"
        ],
        [
         "3",
         "KNITTED UNION FLAG HOT WATER BOTTLE",
         "6",
         "12/1/2010 8:26",
         "3.39",
         "17850.0",
         "United Kingdom"
        ],
        [
         "4",
         "RED WOOLLY HOTTIE WHITE HEART.",
         "6",
         "12/1/2010 8:26",
         "3.39",
         "17850.0",
         "United Kingdom"
        ]
       ],
       "shape": {
        "columns": 6,
        "rows": 5
       }
      },
      "text/html": [
       "<div>\n",
       "<style scoped>\n",
       "    .dataframe tbody tr th:only-of-type {\n",
       "        vertical-align: middle;\n",
       "    }\n",
       "\n",
       "    .dataframe tbody tr th {\n",
       "        vertical-align: top;\n",
       "    }\n",
       "\n",
       "    .dataframe thead th {\n",
       "        text-align: right;\n",
       "    }\n",
       "</style>\n",
       "<table border=\"1\" class=\"dataframe\">\n",
       "  <thead>\n",
       "    <tr style=\"text-align: right;\">\n",
       "      <th></th>\n",
       "      <th>Description</th>\n",
       "      <th>Quantity</th>\n",
       "      <th>InvoiceDate</th>\n",
       "      <th>UnitPrice</th>\n",
       "      <th>CustomerID</th>\n",
       "      <th>Country</th>\n",
       "    </tr>\n",
       "  </thead>\n",
       "  <tbody>\n",
       "    <tr>\n",
       "      <th>0</th>\n",
       "      <td>WHITE HANGING HEART T-LIGHT HOLDER</td>\n",
       "      <td>6</td>\n",
       "      <td>12/1/2010 8:26</td>\n",
       "      <td>2.55</td>\n",
       "      <td>17850.0</td>\n",
       "      <td>United Kingdom</td>\n",
       "    </tr>\n",
       "    <tr>\n",
       "      <th>1</th>\n",
       "      <td>WHITE METAL LANTERN</td>\n",
       "      <td>6</td>\n",
       "      <td>12/1/2010 8:26</td>\n",
       "      <td>3.39</td>\n",
       "      <td>17850.0</td>\n",
       "      <td>United Kingdom</td>\n",
       "    </tr>\n",
       "    <tr>\n",
       "      <th>2</th>\n",
       "      <td>CREAM CUPID HEARTS COAT HANGER</td>\n",
       "      <td>8</td>\n",
       "      <td>12/1/2010 8:26</td>\n",
       "      <td>2.75</td>\n",
       "      <td>17850.0</td>\n",
       "      <td>United Kingdom</td>\n",
       "    </tr>\n",
       "    <tr>\n",
       "      <th>3</th>\n",
       "      <td>KNITTED UNION FLAG HOT WATER BOTTLE</td>\n",
       "      <td>6</td>\n",
       "      <td>12/1/2010 8:26</td>\n",
       "      <td>3.39</td>\n",
       "      <td>17850.0</td>\n",
       "      <td>United Kingdom</td>\n",
       "    </tr>\n",
       "    <tr>\n",
       "      <th>4</th>\n",
       "      <td>RED WOOLLY HOTTIE WHITE HEART.</td>\n",
       "      <td>6</td>\n",
       "      <td>12/1/2010 8:26</td>\n",
       "      <td>3.39</td>\n",
       "      <td>17850.0</td>\n",
       "      <td>United Kingdom</td>\n",
       "    </tr>\n",
       "  </tbody>\n",
       "</table>\n",
       "</div>"
      ],
      "text/plain": [
       "                           Description  Quantity     InvoiceDate  UnitPrice  \\\n",
       "0   WHITE HANGING HEART T-LIGHT HOLDER         6  12/1/2010 8:26       2.55   \n",
       "1                  WHITE METAL LANTERN         6  12/1/2010 8:26       3.39   \n",
       "2       CREAM CUPID HEARTS COAT HANGER         8  12/1/2010 8:26       2.75   \n",
       "3  KNITTED UNION FLAG HOT WATER BOTTLE         6  12/1/2010 8:26       3.39   \n",
       "4       RED WOOLLY HOTTIE WHITE HEART.         6  12/1/2010 8:26       3.39   \n",
       "\n",
       "   CustomerID         Country  \n",
       "0     17850.0  United Kingdom  \n",
       "1     17850.0  United Kingdom  \n",
       "2     17850.0  United Kingdom  \n",
       "3     17850.0  United Kingdom  \n",
       "4     17850.0  United Kingdom  "
      ]
     },
     "execution_count": 102,
     "metadata": {},
     "output_type": "execute_result"
    }
   ],
   "source": [
    "# Load necessary Libraries\n",
    "import pandas as pd\n",
    "\n",
    "# Load the data\n",
    "data = pd.read_csv(\"Data/online_retail_features.csv\")\n",
    "data.head()"
   ]
  },
  {
   "cell_type": "markdown",
   "id": "e4c70cff",
   "metadata": {},
   "source": [
    "### a) Description of the data"
   ]
  },
  {
   "cell_type": "code",
   "execution_count": 103,
   "id": "48cf9e37",
   "metadata": {},
   "outputs": [
    {
     "name": "stdout",
     "output_type": "stream",
     "text": [
      "<class 'pandas.core.frame.DataFrame'>\n",
      "RangeIndex: 541909 entries, 0 to 541908\n",
      "Data columns (total 6 columns):\n",
      " #   Column       Non-Null Count   Dtype  \n",
      "---  ------       --------------   -----  \n",
      " 0   Description  540455 non-null  object \n",
      " 1   Quantity     541909 non-null  int64  \n",
      " 2   InvoiceDate  541909 non-null  object \n",
      " 3   UnitPrice    541909 non-null  float64\n",
      " 4   CustomerID   406829 non-null  float64\n",
      " 5   Country      541909 non-null  object \n",
      "dtypes: float64(2), int64(1), object(3)\n",
      "memory usage: 24.8+ MB\n",
      "This is a description of the data:\n",
      "None\n",
      "Missing values in each column:\n",
      "Description      1454\n",
      "Quantity            0\n",
      "InvoiceDate         0\n",
      "UnitPrice           0\n",
      "CustomerID     135080\n",
      "Country             0\n",
      "dtype: int64\n",
      "Duplicate rows:\n",
      "6007\n"
     ]
    }
   ],
   "source": [
    "# Describe the data\n",
    "print(f\"This is a description of the data:\\n{data.info()}\")\n",
    "\n",
    "# Check for missing values\n",
    "print(f\"Missing values in each column:\\n{data.isnull().sum()}\")\n",
    "\n",
    "# Check for duplicates\n",
    "print(f\"Duplicate rows:\\n{data.duplicated().sum()}\")\n"
   ]
  },
  {
   "cell_type": "markdown",
   "id": "c883c2d3",
   "metadata": {},
   "source": [
    "- The data has 6 records and 541909 records.\n",
    "- All columns are in the correct format apart from `InvoiceDate` which is in string format and should be converted to datetime, and `CustomerID` which is in float format and should be converted to string.\n",
    "- The data contains some missing values in the `CustomerID` and `Description` columns.\n",
    "- There are duplicate rows in the data."
   ]
  },
  {
   "cell_type": "markdown",
   "id": "08cfa31a",
   "metadata": {},
   "source": [
    "### b) Data Cleaning\n",
    "This process will involve:\n",
    "- Dropping the missing values since they are not significant enough to impute.\n",
    "- Converting the `InvoiceDate` column to datetime format.\n",
    "- Converting the `CustomerID` column to string format.\n",
    "- Removing duplicate rows.\n"
   ]
  },
  {
   "cell_type": "code",
   "execution_count": 104,
   "id": "a4b61bac",
   "metadata": {},
   "outputs": [
    {
     "name": "stdout",
     "output_type": "stream",
     "text": [
      "Data size after cleaning: (534532, 6)\n"
     ]
    },
    {
     "data": {
      "application/vnd.microsoft.datawrangler.viewer.v0+json": {
       "columns": [
        {
         "name": "index",
         "rawType": "int64",
         "type": "integer"
        },
        {
         "name": "Description",
         "rawType": "object",
         "type": "string"
        },
        {
         "name": "Quantity",
         "rawType": "int64",
         "type": "integer"
        },
        {
         "name": "InvoiceDate",
         "rawType": "datetime64[ns]",
         "type": "datetime"
        },
        {
         "name": "UnitPrice",
         "rawType": "float64",
         "type": "float"
        },
        {
         "name": "CustomerID",
         "rawType": "object",
         "type": "string"
        },
        {
         "name": "Country",
         "rawType": "object",
         "type": "string"
        }
       ],
       "ref": "3edddf72-393b-46d1-86f0-161597d6ef79",
       "rows": [
        [
         "0",
         "WHITE HANGING HEART T-LIGHT HOLDER",
         "6",
         "2010-12-01 08:26:00",
         "2.55",
         "17850.0",
         "United Kingdom"
        ],
        [
         "1",
         "WHITE METAL LANTERN",
         "6",
         "2010-12-01 08:26:00",
         "3.39",
         "17850.0",
         "United Kingdom"
        ],
        [
         "2",
         "CREAM CUPID HEARTS COAT HANGER",
         "8",
         "2010-12-01 08:26:00",
         "2.75",
         "17850.0",
         "United Kingdom"
        ],
        [
         "3",
         "KNITTED UNION FLAG HOT WATER BOTTLE",
         "6",
         "2010-12-01 08:26:00",
         "3.39",
         "17850.0",
         "United Kingdom"
        ],
        [
         "4",
         "RED WOOLLY HOTTIE WHITE HEART.",
         "6",
         "2010-12-01 08:26:00",
         "3.39",
         "17850.0",
         "United Kingdom"
        ]
       ],
       "shape": {
        "columns": 6,
        "rows": 5
       }
      },
      "text/html": [
       "<div>\n",
       "<style scoped>\n",
       "    .dataframe tbody tr th:only-of-type {\n",
       "        vertical-align: middle;\n",
       "    }\n",
       "\n",
       "    .dataframe tbody tr th {\n",
       "        vertical-align: top;\n",
       "    }\n",
       "\n",
       "    .dataframe thead th {\n",
       "        text-align: right;\n",
       "    }\n",
       "</style>\n",
       "<table border=\"1\" class=\"dataframe\">\n",
       "  <thead>\n",
       "    <tr style=\"text-align: right;\">\n",
       "      <th></th>\n",
       "      <th>Description</th>\n",
       "      <th>Quantity</th>\n",
       "      <th>InvoiceDate</th>\n",
       "      <th>UnitPrice</th>\n",
       "      <th>CustomerID</th>\n",
       "      <th>Country</th>\n",
       "    </tr>\n",
       "  </thead>\n",
       "  <tbody>\n",
       "    <tr>\n",
       "      <th>0</th>\n",
       "      <td>WHITE HANGING HEART T-LIGHT HOLDER</td>\n",
       "      <td>6</td>\n",
       "      <td>2010-12-01 08:26:00</td>\n",
       "      <td>2.55</td>\n",
       "      <td>17850.0</td>\n",
       "      <td>United Kingdom</td>\n",
       "    </tr>\n",
       "    <tr>\n",
       "      <th>1</th>\n",
       "      <td>WHITE METAL LANTERN</td>\n",
       "      <td>6</td>\n",
       "      <td>2010-12-01 08:26:00</td>\n",
       "      <td>3.39</td>\n",
       "      <td>17850.0</td>\n",
       "      <td>United Kingdom</td>\n",
       "    </tr>\n",
       "    <tr>\n",
       "      <th>2</th>\n",
       "      <td>CREAM CUPID HEARTS COAT HANGER</td>\n",
       "      <td>8</td>\n",
       "      <td>2010-12-01 08:26:00</td>\n",
       "      <td>2.75</td>\n",
       "      <td>17850.0</td>\n",
       "      <td>United Kingdom</td>\n",
       "    </tr>\n",
       "    <tr>\n",
       "      <th>3</th>\n",
       "      <td>KNITTED UNION FLAG HOT WATER BOTTLE</td>\n",
       "      <td>6</td>\n",
       "      <td>2010-12-01 08:26:00</td>\n",
       "      <td>3.39</td>\n",
       "      <td>17850.0</td>\n",
       "      <td>United Kingdom</td>\n",
       "    </tr>\n",
       "    <tr>\n",
       "      <th>4</th>\n",
       "      <td>RED WOOLLY HOTTIE WHITE HEART.</td>\n",
       "      <td>6</td>\n",
       "      <td>2010-12-01 08:26:00</td>\n",
       "      <td>3.39</td>\n",
       "      <td>17850.0</td>\n",
       "      <td>United Kingdom</td>\n",
       "    </tr>\n",
       "  </tbody>\n",
       "</table>\n",
       "</div>"
      ],
      "text/plain": [
       "                           Description  Quantity         InvoiceDate  \\\n",
       "0   WHITE HANGING HEART T-LIGHT HOLDER         6 2010-12-01 08:26:00   \n",
       "1                  WHITE METAL LANTERN         6 2010-12-01 08:26:00   \n",
       "2       CREAM CUPID HEARTS COAT HANGER         8 2010-12-01 08:26:00   \n",
       "3  KNITTED UNION FLAG HOT WATER BOTTLE         6 2010-12-01 08:26:00   \n",
       "4       RED WOOLLY HOTTIE WHITE HEART.         6 2010-12-01 08:26:00   \n",
       "\n",
       "   UnitPrice CustomerID         Country  \n",
       "0       2.55    17850.0  United Kingdom  \n",
       "1       3.39    17850.0  United Kingdom  \n",
       "2       2.75    17850.0  United Kingdom  \n",
       "3       3.39    17850.0  United Kingdom  \n",
       "4       3.39    17850.0  United Kingdom  "
      ]
     },
     "execution_count": 104,
     "metadata": {},
     "output_type": "execute_result"
    }
   ],
   "source": [
    "# Converting InvoiceDate to datetime\n",
    "data['InvoiceDate'] = pd.to_datetime(data['InvoiceDate'])\n",
    "\n",
    "# Converting CustomerID to string\n",
    "data['CustomerID'] = data['CustomerID'].astype(str)\n",
    "\n",
    "# Removing duplicate rows\n",
    "data = data.drop_duplicates()\n",
    "\n",
    "# Remove missing values in specific columns\n",
    "data = data.dropna(subset=['CustomerID', 'Description'])\n",
    "\n",
    "# Resetting the index\n",
    "data = data.reset_index(drop=True)\n",
    "print(f\"Data size after cleaning: {data.shape}\")\n",
    "data.head()"
   ]
  },
  {
   "cell_type": "markdown",
   "id": "e3b390ef",
   "metadata": {},
   "source": [
    "## 2) Transformation\n",
    "The transformation process will involve:\n",
    "- Create dimensions like extract where you group by `CustomerID` to create customer summary.\n",
    "- Creating new calculated columns: `TotalPrice` = `Quantity` * `UnitPrice`\n",
    "- Filtering data to the sales of the year. The entire year 2011.\n",
    "- Handle outliers by removing values whose `Quantity` < 0 and `UnitPrice` < 0"
   ]
  },
  {
   "cell_type": "code",
   "execution_count": 105,
   "id": "3edcc1c7",
   "metadata": {},
   "outputs": [
    {
     "name": "stdout",
     "output_type": "stream",
     "text": [
      "Last value of invoice: 2011-12-09 12:50:00\n"
     ]
    }
   ],
   "source": [
    "# Last value of invoice\n",
    "last_invoice_date = data['InvoiceDate'].max()\n",
    "print(f\"Last value of invoice: {last_invoice_date}\")"
   ]
  },
  {
   "cell_type": "code",
   "execution_count": 106,
   "id": "8606a0c6",
   "metadata": {},
   "outputs": [
    {
     "name": "stdout",
     "output_type": "stream",
     "text": [
      "Data size after transformations: (483353, 7)\n"
     ]
    },
    {
     "data": {
      "application/vnd.microsoft.datawrangler.viewer.v0+json": {
       "columns": [
        {
         "name": "index",
         "rawType": "object",
         "type": "string"
        },
        {
         "name": "Quantity",
         "rawType": "float64",
         "type": "float"
        },
        {
         "name": "InvoiceDate",
         "rawType": "object",
         "type": "unknown"
        },
        {
         "name": "UnitPrice",
         "rawType": "float64",
         "type": "float"
        },
        {
         "name": "TotalPrice",
         "rawType": "float64",
         "type": "float"
        }
       ],
       "ref": "e2647da9-cd3d-4257-a983-e5beec674e7e",
       "rows": [
        [
         "count",
         "483353.0",
         "483353",
         "483353.0",
         "483353.0"
        ],
        [
         "mean",
         "10.785326666018417",
         "2011-07-22 04:04:34.842113280",
         "3.842620060287203",
         "20.30754511506084"
        ],
        [
         "min",
         "1.0",
         "2011-01-04 10:00:00",
         "0.001",
         "0.001"
        ],
        [
         "25%",
         "1.0",
         "2011-04-21 19:51:00",
         "1.25",
         "3.9000000000000004"
        ],
        [
         "50%",
         "4.0",
         "2011-08-05 16:34:00",
         "2.08",
         "9.95"
        ],
        [
         "75%",
         "12.0",
         "2011-10-25 12:11:00",
         "4.13",
         "17.700000000000003"
        ],
        [
         "max",
         "80995.0",
         "2011-12-09 12:50:00",
         "11062.06",
         "168469.6"
        ],
        [
         "std",
         "162.49143722244094",
         null,
         "31.563521861192005",
         "281.6809436337465"
        ]
       ],
       "shape": {
        "columns": 4,
        "rows": 8
       }
      },
      "text/html": [
       "<div>\n",
       "<style scoped>\n",
       "    .dataframe tbody tr th:only-of-type {\n",
       "        vertical-align: middle;\n",
       "    }\n",
       "\n",
       "    .dataframe tbody tr th {\n",
       "        vertical-align: top;\n",
       "    }\n",
       "\n",
       "    .dataframe thead th {\n",
       "        text-align: right;\n",
       "    }\n",
       "</style>\n",
       "<table border=\"1\" class=\"dataframe\">\n",
       "  <thead>\n",
       "    <tr style=\"text-align: right;\">\n",
       "      <th></th>\n",
       "      <th>Quantity</th>\n",
       "      <th>InvoiceDate</th>\n",
       "      <th>UnitPrice</th>\n",
       "      <th>TotalPrice</th>\n",
       "    </tr>\n",
       "  </thead>\n",
       "  <tbody>\n",
       "    <tr>\n",
       "      <th>count</th>\n",
       "      <td>483353.000000</td>\n",
       "      <td>483353</td>\n",
       "      <td>483353.000000</td>\n",
       "      <td>483353.000000</td>\n",
       "    </tr>\n",
       "    <tr>\n",
       "      <th>mean</th>\n",
       "      <td>10.785327</td>\n",
       "      <td>2011-07-22 04:04:34.842113280</td>\n",
       "      <td>3.842620</td>\n",
       "      <td>20.307545</td>\n",
       "    </tr>\n",
       "    <tr>\n",
       "      <th>min</th>\n",
       "      <td>1.000000</td>\n",
       "      <td>2011-01-04 10:00:00</td>\n",
       "      <td>0.001000</td>\n",
       "      <td>0.001000</td>\n",
       "    </tr>\n",
       "    <tr>\n",
       "      <th>25%</th>\n",
       "      <td>1.000000</td>\n",
       "      <td>2011-04-21 19:51:00</td>\n",
       "      <td>1.250000</td>\n",
       "      <td>3.900000</td>\n",
       "    </tr>\n",
       "    <tr>\n",
       "      <th>50%</th>\n",
       "      <td>4.000000</td>\n",
       "      <td>2011-08-05 16:34:00</td>\n",
       "      <td>2.080000</td>\n",
       "      <td>9.950000</td>\n",
       "    </tr>\n",
       "    <tr>\n",
       "      <th>75%</th>\n",
       "      <td>12.000000</td>\n",
       "      <td>2011-10-25 12:11:00</td>\n",
       "      <td>4.130000</td>\n",
       "      <td>17.700000</td>\n",
       "    </tr>\n",
       "    <tr>\n",
       "      <th>max</th>\n",
       "      <td>80995.000000</td>\n",
       "      <td>2011-12-09 12:50:00</td>\n",
       "      <td>11062.060000</td>\n",
       "      <td>168469.600000</td>\n",
       "    </tr>\n",
       "    <tr>\n",
       "      <th>std</th>\n",
       "      <td>162.491437</td>\n",
       "      <td>NaN</td>\n",
       "      <td>31.563522</td>\n",
       "      <td>281.680944</td>\n",
       "    </tr>\n",
       "  </tbody>\n",
       "</table>\n",
       "</div>"
      ],
      "text/plain": [
       "            Quantity                    InvoiceDate      UnitPrice  \\\n",
       "count  483353.000000                         483353  483353.000000   \n",
       "mean       10.785327  2011-07-22 04:04:34.842113280       3.842620   \n",
       "min         1.000000            2011-01-04 10:00:00       0.001000   \n",
       "25%         1.000000            2011-04-21 19:51:00       1.250000   \n",
       "50%         4.000000            2011-08-05 16:34:00       2.080000   \n",
       "75%        12.000000            2011-10-25 12:11:00       4.130000   \n",
       "max     80995.000000            2011-12-09 12:50:00   11062.060000   \n",
       "std       162.491437                            NaN      31.563522   \n",
       "\n",
       "          TotalPrice  \n",
       "count  483353.000000  \n",
       "mean       20.307545  \n",
       "min         0.001000  \n",
       "25%         3.900000  \n",
       "50%         9.950000  \n",
       "75%        17.700000  \n",
       "max    168469.600000  \n",
       "std       281.680944  "
      ]
     },
     "execution_count": 106,
     "metadata": {},
     "output_type": "execute_result"
    }
   ],
   "source": [
    "# Create a TotalPrice column\n",
    "data['TotalPrice'] = data['Quantity'] * data['UnitPrice']\n",
    "\n",
    "# Filter data for the last year\n",
    "data = data[data['InvoiceDate'] >= '2011-01-01']\n",
    "\n",
    "# Remove outliers\n",
    "data = data[(data['Quantity'] > 0) & (data['UnitPrice'] > 0)]\n",
    "print(f\"Data size after transformations: {data.shape}\")\n",
    "data.describe()"
   ]
  },
  {
   "cell_type": "code",
   "execution_count": 107,
   "id": "7fa3b9b7",
   "metadata": {},
   "outputs": [
    {
     "data": {
      "application/vnd.microsoft.datawrangler.viewer.v0+json": {
       "columns": [
        {
         "name": "index",
         "rawType": "int64",
         "type": "integer"
        },
        {
         "name": "CustomerID",
         "rawType": "object",
         "type": "string"
        },
        {
         "name": "TotalSales",
         "rawType": "float64",
         "type": "float"
        },
        {
         "name": "AverageSales",
         "rawType": "float64",
         "type": "float"
        },
        {
         "name": "PurchaseCount",
         "rawType": "int64",
         "type": "integer"
        },
        {
         "name": "FirstPurchase",
         "rawType": "datetime64[ns]",
         "type": "datetime"
        },
        {
         "name": "LastPurchase",
         "rawType": "datetime64[ns]",
         "type": "datetime"
        },
        {
         "name": "Country",
         "rawType": "object",
         "type": "string"
        }
       ],
       "ref": "9199c23a-c654-44a6-a64a-06f5a8e005b4",
       "rows": [
        [
         "0",
         "12346.0",
         "77183.6",
         "77183.6",
         "1",
         "2011-01-18 10:01:00",
         "2011-01-18 10:01:00",
         "United Kingdom"
        ],
        [
         "1",
         "12347.0",
         "3598.21",
         "23.829205298013246",
         "6",
         "2011-01-26 14:30:00",
         "2011-12-07 15:52:00",
         "Iceland"
        ],
        [
         "2",
         "12348.0",
         "904.44",
         "64.60285714285715",
         "3",
         "2011-01-25 10:42:00",
         "2011-09-25 13:13:00",
         "Finland"
        ],
        [
         "3",
         "12349.0",
         "1757.55",
         "24.076027397260273",
         "1",
         "2011-11-21 09:51:00",
         "2011-11-21 09:51:00",
         "Italy"
        ],
        [
         "4",
         "12350.0",
         "334.4",
         "19.670588235294115",
         "1",
         "2011-02-02 16:01:00",
         "2011-02-02 16:01:00",
         "Norway"
        ]
       ],
       "shape": {
        "columns": 7,
        "rows": 5
       }
      },
      "text/html": [
       "<div>\n",
       "<style scoped>\n",
       "    .dataframe tbody tr th:only-of-type {\n",
       "        vertical-align: middle;\n",
       "    }\n",
       "\n",
       "    .dataframe tbody tr th {\n",
       "        vertical-align: top;\n",
       "    }\n",
       "\n",
       "    .dataframe thead th {\n",
       "        text-align: right;\n",
       "    }\n",
       "</style>\n",
       "<table border=\"1\" class=\"dataframe\">\n",
       "  <thead>\n",
       "    <tr style=\"text-align: right;\">\n",
       "      <th></th>\n",
       "      <th>CustomerID</th>\n",
       "      <th>TotalSales</th>\n",
       "      <th>AverageSales</th>\n",
       "      <th>PurchaseCount</th>\n",
       "      <th>FirstPurchase</th>\n",
       "      <th>LastPurchase</th>\n",
       "      <th>Country</th>\n",
       "    </tr>\n",
       "  </thead>\n",
       "  <tbody>\n",
       "    <tr>\n",
       "      <th>0</th>\n",
       "      <td>12346.0</td>\n",
       "      <td>77183.60</td>\n",
       "      <td>77183.600000</td>\n",
       "      <td>1</td>\n",
       "      <td>2011-01-18 10:01:00</td>\n",
       "      <td>2011-01-18 10:01:00</td>\n",
       "      <td>United Kingdom</td>\n",
       "    </tr>\n",
       "    <tr>\n",
       "      <th>1</th>\n",
       "      <td>12347.0</td>\n",
       "      <td>3598.21</td>\n",
       "      <td>23.829205</td>\n",
       "      <td>6</td>\n",
       "      <td>2011-01-26 14:30:00</td>\n",
       "      <td>2011-12-07 15:52:00</td>\n",
       "      <td>Iceland</td>\n",
       "    </tr>\n",
       "    <tr>\n",
       "      <th>2</th>\n",
       "      <td>12348.0</td>\n",
       "      <td>904.44</td>\n",
       "      <td>64.602857</td>\n",
       "      <td>3</td>\n",
       "      <td>2011-01-25 10:42:00</td>\n",
       "      <td>2011-09-25 13:13:00</td>\n",
       "      <td>Finland</td>\n",
       "    </tr>\n",
       "    <tr>\n",
       "      <th>3</th>\n",
       "      <td>12349.0</td>\n",
       "      <td>1757.55</td>\n",
       "      <td>24.076027</td>\n",
       "      <td>1</td>\n",
       "      <td>2011-11-21 09:51:00</td>\n",
       "      <td>2011-11-21 09:51:00</td>\n",
       "      <td>Italy</td>\n",
       "    </tr>\n",
       "    <tr>\n",
       "      <th>4</th>\n",
       "      <td>12350.0</td>\n",
       "      <td>334.40</td>\n",
       "      <td>19.670588</td>\n",
       "      <td>1</td>\n",
       "      <td>2011-02-02 16:01:00</td>\n",
       "      <td>2011-02-02 16:01:00</td>\n",
       "      <td>Norway</td>\n",
       "    </tr>\n",
       "  </tbody>\n",
       "</table>\n",
       "</div>"
      ],
      "text/plain": [
       "  CustomerID  TotalSales  AverageSales  PurchaseCount       FirstPurchase  \\\n",
       "0    12346.0    77183.60  77183.600000              1 2011-01-18 10:01:00   \n",
       "1    12347.0     3598.21     23.829205              6 2011-01-26 14:30:00   \n",
       "2    12348.0      904.44     64.602857              3 2011-01-25 10:42:00   \n",
       "3    12349.0     1757.55     24.076027              1 2011-11-21 09:51:00   \n",
       "4    12350.0      334.40     19.670588              1 2011-02-02 16:01:00   \n",
       "\n",
       "         LastPurchase         Country  \n",
       "0 2011-01-18 10:01:00  United Kingdom  \n",
       "1 2011-12-07 15:52:00         Iceland  \n",
       "2 2011-09-25 13:13:00         Finland  \n",
       "3 2011-11-21 09:51:00           Italy  \n",
       "4 2011-02-02 16:01:00          Norway  "
      ]
     },
     "execution_count": 107,
     "metadata": {},
     "output_type": "execute_result"
    }
   ],
   "source": [
    "# Creating customer summary\n",
    "customer_summary = data.groupby('CustomerID').agg(\n",
    "    TotalSales=('TotalPrice', 'sum'),\n",
    "    AverageSales=('TotalPrice', 'mean'),\n",
    "    PurchaseCount=('InvoiceDate', 'nunique'),\n",
    "    FirstPurchase=('InvoiceDate', 'min'),\n",
    "    LastPurchase=('InvoiceDate', 'max'),\n",
    "    Country=('Country', 'first')\n",
    ").reset_index()\n",
    "customer_summary.head()"
   ]
  },
  {
   "cell_type": "code",
   "execution_count": 108,
   "id": "2d566f37",
   "metadata": {},
   "outputs": [],
   "source": [
    "# Saving the transformed data to a CSV file\n",
    "data.to_csv('Data/transformed_data.csv', index=False)"
   ]
  },
  {
   "cell_type": "markdown",
   "id": "b75e40b9",
   "metadata": {},
   "source": [
    "## 3) Loading Data into SQLite Database\n",
    "\n",
    "In this stage, we will load the transformed data into a SQLite database. We will:\n",
    "1. Create a database file (retail_dw.db)\n",
    "2. Create dimension tables (CustomerDim, ProductDim, TimeDim)\n",
    "3. Create a fact table (SalesFact)\n",
    "4. Load the transformed data into these tables"
   ]
  },
  {
   "cell_type": "code",
   "execution_count": 110,
   "id": "6a5c9e5a",
   "metadata": {},
   "outputs": [
    {
     "name": "stdout",
     "output_type": "stream",
     "text": [
      "Loaded transformed data with 483353 rows and 7 columns\n",
      "Data columns: ['Description', 'Quantity', 'InvoiceDate', 'UnitPrice', 'CustomerID', 'Country', 'TotalPrice']\n"
     ]
    },
    {
     "data": {
      "application/vnd.microsoft.datawrangler.viewer.v0+json": {
       "columns": [
        {
         "name": "index",
         "rawType": "int64",
         "type": "integer"
        },
        {
         "name": "Description",
         "rawType": "object",
         "type": "string"
        },
        {
         "name": "Quantity",
         "rawType": "int64",
         "type": "integer"
        },
        {
         "name": "InvoiceDate",
         "rawType": "object",
         "type": "string"
        },
        {
         "name": "UnitPrice",
         "rawType": "float64",
         "type": "float"
        },
        {
         "name": "CustomerID",
         "rawType": "float64",
         "type": "float"
        },
        {
         "name": "Country",
         "rawType": "object",
         "type": "string"
        },
        {
         "name": "TotalPrice",
         "rawType": "float64",
         "type": "float"
        }
       ],
       "ref": "adf4dcff-f87e-4989-9994-e9188d29cadb",
       "rows": [
        [
         "0",
         "JUMBO BAG PINK POLKADOT",
         "10",
         "2011-01-04 10:00:00",
         "1.95",
         "13313.0",
         "United Kingdom",
         "19.5"
        ],
        [
         "1",
         "BLUE POLKADOT WRAP",
         "25",
         "2011-01-04 10:00:00",
         "0.42",
         "13313.0",
         "United Kingdom",
         "10.5"
        ],
        [
         "2",
         "RED RETROSPOT WRAP ",
         "25",
         "2011-01-04 10:00:00",
         "0.42",
         "13313.0",
         "United Kingdom",
         "10.5"
        ],
        [
         "3",
         "RECYCLING BAG RETROSPOT ",
         "5",
         "2011-01-04 10:00:00",
         "2.1",
         "13313.0",
         "United Kingdom",
         "10.5"
        ],
        [
         "4",
         "RED RETROSPOT SHOPPER BAG",
         "10",
         "2011-01-04 10:00:00",
         "1.25",
         "13313.0",
         "United Kingdom",
         "12.5"
        ]
       ],
       "shape": {
        "columns": 7,
        "rows": 5
       }
      },
      "text/html": [
       "<div>\n",
       "<style scoped>\n",
       "    .dataframe tbody tr th:only-of-type {\n",
       "        vertical-align: middle;\n",
       "    }\n",
       "\n",
       "    .dataframe tbody tr th {\n",
       "        vertical-align: top;\n",
       "    }\n",
       "\n",
       "    .dataframe thead th {\n",
       "        text-align: right;\n",
       "    }\n",
       "</style>\n",
       "<table border=\"1\" class=\"dataframe\">\n",
       "  <thead>\n",
       "    <tr style=\"text-align: right;\">\n",
       "      <th></th>\n",
       "      <th>Description</th>\n",
       "      <th>Quantity</th>\n",
       "      <th>InvoiceDate</th>\n",
       "      <th>UnitPrice</th>\n",
       "      <th>CustomerID</th>\n",
       "      <th>Country</th>\n",
       "      <th>TotalPrice</th>\n",
       "    </tr>\n",
       "  </thead>\n",
       "  <tbody>\n",
       "    <tr>\n",
       "      <th>0</th>\n",
       "      <td>JUMBO BAG PINK POLKADOT</td>\n",
       "      <td>10</td>\n",
       "      <td>2011-01-04 10:00:00</td>\n",
       "      <td>1.95</td>\n",
       "      <td>13313.0</td>\n",
       "      <td>United Kingdom</td>\n",
       "      <td>19.5</td>\n",
       "    </tr>\n",
       "    <tr>\n",
       "      <th>1</th>\n",
       "      <td>BLUE POLKADOT WRAP</td>\n",
       "      <td>25</td>\n",
       "      <td>2011-01-04 10:00:00</td>\n",
       "      <td>0.42</td>\n",
       "      <td>13313.0</td>\n",
       "      <td>United Kingdom</td>\n",
       "      <td>10.5</td>\n",
       "    </tr>\n",
       "    <tr>\n",
       "      <th>2</th>\n",
       "      <td>RED RETROSPOT WRAP</td>\n",
       "      <td>25</td>\n",
       "      <td>2011-01-04 10:00:00</td>\n",
       "      <td>0.42</td>\n",
       "      <td>13313.0</td>\n",
       "      <td>United Kingdom</td>\n",
       "      <td>10.5</td>\n",
       "    </tr>\n",
       "    <tr>\n",
       "      <th>3</th>\n",
       "      <td>RECYCLING BAG RETROSPOT</td>\n",
       "      <td>5</td>\n",
       "      <td>2011-01-04 10:00:00</td>\n",
       "      <td>2.10</td>\n",
       "      <td>13313.0</td>\n",
       "      <td>United Kingdom</td>\n",
       "      <td>10.5</td>\n",
       "    </tr>\n",
       "    <tr>\n",
       "      <th>4</th>\n",
       "      <td>RED RETROSPOT SHOPPER BAG</td>\n",
       "      <td>10</td>\n",
       "      <td>2011-01-04 10:00:00</td>\n",
       "      <td>1.25</td>\n",
       "      <td>13313.0</td>\n",
       "      <td>United Kingdom</td>\n",
       "      <td>12.5</td>\n",
       "    </tr>\n",
       "  </tbody>\n",
       "</table>\n",
       "</div>"
      ],
      "text/plain": [
       "                 Description  Quantity          InvoiceDate  UnitPrice  \\\n",
       "0    JUMBO BAG PINK POLKADOT        10  2011-01-04 10:00:00       1.95   \n",
       "1         BLUE POLKADOT WRAP        25  2011-01-04 10:00:00       0.42   \n",
       "2        RED RETROSPOT WRAP         25  2011-01-04 10:00:00       0.42   \n",
       "3   RECYCLING BAG RETROSPOT          5  2011-01-04 10:00:00       2.10   \n",
       "4  RED RETROSPOT SHOPPER BAG        10  2011-01-04 10:00:00       1.25   \n",
       "\n",
       "   CustomerID         Country  TotalPrice  \n",
       "0     13313.0  United Kingdom        19.5  \n",
       "1     13313.0  United Kingdom        10.5  \n",
       "2     13313.0  United Kingdom        10.5  \n",
       "3     13313.0  United Kingdom        10.5  \n",
       "4     13313.0  United Kingdom        12.5  "
      ]
     },
     "execution_count": 110,
     "metadata": {},
     "output_type": "execute_result"
    }
   ],
   "source": [
    "# Import necessary libraries\n",
    "import sqlite3\n",
    "import pandas as pd\n",
    "import os\n",
    "\n",
    "# Load the transformed data\n",
    "data_path = os.path.join('Data', 'transformed_data.csv')\n",
    "df = pd.read_csv(data_path)\n",
    "\n",
    "print(f\"Loaded transformed data with {df.shape[0]} rows and {df.shape[1]} columns\")\n",
    "print(\"Data columns:\", df.columns.tolist())\n",
    "df.head()"
   ]
  },
  {
   "cell_type": "code",
   "execution_count": 111,
   "id": "e3595b0c",
   "metadata": {},
   "outputs": [
    {
     "name": "stdout",
     "output_type": "stream",
     "text": [
      "Database tables created successfully!\n"
     ]
    }
   ],
   "source": [
    "# Create SQLite database\n",
    "db_path = 'retail_dw.db'\n",
    "\n",
    "# Connect to SQLite database\n",
    "conn = sqlite3.connect(db_path)\n",
    "cursor = conn.cursor()\n",
    "\n",
    "# Create dimension tables\n",
    "# Customer Dimension Table\n",
    "cursor.execute('''\n",
    "CREATE TABLE IF NOT EXISTS CustomerDim (\n",
    "    CustomerID INTEGER PRIMARY KEY,\n",
    "    Country TEXT\n",
    ")\n",
    "''')\n",
    "\n",
    "# Product Dimension Table\n",
    "cursor.execute('''\n",
    "CREATE TABLE IF NOT EXISTS ProductDim (\n",
    "    ProductID INTEGER PRIMARY KEY AUTOINCREMENT,\n",
    "    Description TEXT,\n",
    "    UnitPrice REAL\n",
    ")\n",
    "''')\n",
    "\n",
    "# Time Dimension Table\n",
    "cursor.execute('''\n",
    "CREATE TABLE IF NOT EXISTS TimeDim (\n",
    "    TimeID INTEGER PRIMARY KEY AUTOINCREMENT,\n",
    "    InvoiceDate DATETIME,\n",
    "    Year INTEGER,\n",
    "    Month INTEGER,\n",
    "    Day INTEGER,\n",
    "    Hour INTEGER\n",
    ")\n",
    "''')\n",
    "\n",
    "# Create fact table - SalesFact\n",
    "cursor.execute('''\n",
    "CREATE TABLE IF NOT EXISTS SalesFact (\n",
    "    SaleID INTEGER PRIMARY KEY AUTOINCREMENT,\n",
    "    CustomerID INTEGER,\n",
    "    ProductID INTEGER,\n",
    "    TimeID INTEGER,\n",
    "    Quantity INTEGER,\n",
    "    TotalPrice REAL,\n",
    "    FOREIGN KEY (CustomerID) REFERENCES CustomerDim(CustomerID),\n",
    "    FOREIGN KEY (ProductID) REFERENCES ProductDim(ProductID),\n",
    "    FOREIGN KEY (TimeID) REFERENCES TimeDim(TimeID)\n",
    ")\n",
    "''')\n",
    "\n",
    "print(\"Database tables created successfully!\")"
   ]
  },
  {
   "cell_type": "code",
   "execution_count": 112,
   "id": "ff7d2bd2",
   "metadata": {},
   "outputs": [
    {
     "name": "stdout",
     "output_type": "stream",
     "text": [
      "Inserted 4219 unique customers into CustomerDim\n",
      "Inserted 14096 unique products into ProductDim\n",
      "Inserted 17069 unique dates into TimeDim\n"
     ]
    }
   ],
   "source": [
    "# First, let's convert InvoiceDate to datetime format if it's not already\n",
    "df['InvoiceDate'] = pd.to_datetime(df['InvoiceDate'])\n",
    "\n",
    "# Now, populate dimension tables\n",
    "\n",
    "# 1. CustomerDim - Extract unique customers\n",
    "customers = df[['CustomerID', 'Country']].drop_duplicates().dropna()\n",
    "customers_list = customers.to_records(index=False).tolist()\n",
    "\n",
    "# Insert customers into CustomerDim\n",
    "cursor.executemany(\"INSERT OR IGNORE INTO CustomerDim (CustomerID, Country) VALUES (?, ?)\", \n",
    "                  [(int(cid), country) for cid, country in customers_list])\n",
    "print(f\"Inserted {cursor.rowcount} unique customers into CustomerDim\")\n",
    "\n",
    "# 2. ProductDim - Extract unique products\n",
    "products = df[['Description', 'UnitPrice']].drop_duplicates()\n",
    "products_list = products.to_records(index=False).tolist()\n",
    "\n",
    "# Insert products into ProductDim\n",
    "cursor.executemany(\"INSERT INTO ProductDim (Description, UnitPrice) VALUES (?, ?)\", products_list)\n",
    "print(f\"Inserted {cursor.rowcount} unique products into ProductDim\")\n",
    "\n",
    "# 3. TimeDim - Extract unique dates with components\n",
    "df['Year'] = df['InvoiceDate'].dt.year\n",
    "df['Month'] = df['InvoiceDate'].dt.month\n",
    "df['Day'] = df['InvoiceDate'].dt.day\n",
    "df['Hour'] = df['InvoiceDate'].dt.hour\n",
    "\n",
    "times = df[['InvoiceDate', 'Year', 'Month', 'Day', 'Hour']].drop_duplicates()\n",
    "times_list = times.to_records(index=False).tolist()\n",
    "\n",
    "# Insert times into TimeDim\n",
    "cursor.executemany(\n",
    "    \"INSERT INTO TimeDim (InvoiceDate, Year, Month, Day, Hour) VALUES (?, ?, ?, ?, ?)\",\n",
    "    times_list\n",
    ")\n",
    "print(f\"Inserted {cursor.rowcount} unique dates into TimeDim\")\n",
    "\n",
    "# Commit the changes to dimension tables\n",
    "conn.commit()"
   ]
  },
  {
   "cell_type": "code",
   "execution_count": 113,
   "id": "87b3e4e3",
   "metadata": {},
   "outputs": [
    {
     "name": "stdout",
     "output_type": "stream",
     "text": [
      "\n",
      "Total: Inserted 0 rows into SalesFact table\n",
      "Database created successfully at: c:\\Users\\admin\\OneDrive\\Desktop\\School\\Summer Sem 2025\\Data Warehousing\\END SEMESTER PROJECT\\DSA-2040_Practical_Exam_-Calvin_035-\\Data Warehousing\\ETL_Process\\retail_dw.db\n"
     ]
    }
   ],
   "source": [
    "# Populate the SalesFact table\n",
    "# We need to join with dimension tables to get the corresponding IDs\n",
    "\n",
    "# First, create a dictionary to map product descriptions to ProductIDs\n",
    "cursor.execute(\"SELECT ProductID, Description FROM ProductDim\")\n",
    "product_id_map = {desc: prod_id for prod_id, desc in cursor.fetchall()}\n",
    "\n",
    "# Create a dictionary to map dates to TimeIDs\n",
    "cursor.execute(\"SELECT TimeID, InvoiceDate FROM TimeDim\")\n",
    "time_id_map = {date: time_id for time_id, date in cursor.fetchall()}\n",
    "\n",
    "# Initialize batch counter and batch size for inserting data\n",
    "batch_size = 10000\n",
    "batch_count = 0\n",
    "total_rows = 0\n",
    "\n",
    "# Process the dataframe in batches to avoid memory issues\n",
    "for i in range(0, len(df), batch_size):\n",
    "    batch = df.iloc[i:i+batch_size]\n",
    "    \n",
    "    # Prepare data for insertion\n",
    "    sales_data = []\n",
    "    for _, row in batch.iterrows():\n",
    "        if pd.isna(row['CustomerID']):\n",
    "            continue  # Skip rows with missing CustomerID\n",
    "            \n",
    "        product_id = product_id_map.get(row['Description'])\n",
    "        time_id = time_id_map.get(str(row['InvoiceDate']))\n",
    "        \n",
    "        if product_id is not None and time_id is not None:\n",
    "            sales_data.append((\n",
    "                int(row['CustomerID']),\n",
    "                product_id,\n",
    "                time_id,\n",
    "                int(row['Quantity']),\n",
    "                float(row['TotalPrice'])\n",
    "            ))\n",
    "    \n",
    "    # Insert data into SalesFact\n",
    "    if sales_data:\n",
    "        cursor.executemany(\n",
    "            \"INSERT INTO SalesFact (CustomerID, ProductID, TimeID, Quantity, TotalPrice) VALUES (?, ?, ?, ?, ?)\",\n",
    "            sales_data\n",
    "        )\n",
    "        \n",
    "        batch_count += 1\n",
    "        total_rows += len(sales_data)\n",
    "        print(f\"Batch {batch_count}: Inserted {len(sales_data)} rows into SalesFact\")\n",
    "\n",
    "# Commit the changes and close the connection\n",
    "conn.commit()\n",
    "print(f\"\\nTotal: Inserted {total_rows} rows into SalesFact table\")\n",
    "print(f\"Database created successfully at: {os.path.abspath(db_path)}\")\n",
    "\n",
    "# Close the database connection\n",
    "conn.close()"
   ]
  },
  {
   "cell_type": "code",
   "execution_count": 114,
   "id": "02e90441",
   "metadata": {},
   "outputs": [
    {
     "name": "stdout",
     "output_type": "stream",
     "text": [
      "Sample data from TimeDim:\n",
      "(1, 1294135200000000000, 2011, 1, 4)\n",
      "(2, 1294136520000000000, 2011, 1, 4)\n",
      "(3, 1294136580000000000, 2011, 1, 4)\n",
      "(4, 1294137420000000000, 2011, 1, 4)\n",
      "(5, 1294137480000000000, 2011, 1, 4)\n",
      "\n",
      "Dimension table counts:\n",
      "CustomerDim: 4219 rows\n",
      "ProductDim: 14096 rows\n",
      "TimeDim: 17069 rows\n"
     ]
    }
   ],
   "source": [
    "# Let's fix the issue with the fact table population\n",
    "# First, reconnect to the database\n",
    "conn = sqlite3.connect(db_path)\n",
    "cursor = conn.cursor()\n",
    "\n",
    "# Let's check the content of TimeDim table to see how dates are stored\n",
    "cursor.execute(\"SELECT TimeID, InvoiceDate, Year, Month, Day FROM TimeDim LIMIT 5\")\n",
    "print(\"Sample data from TimeDim:\")\n",
    "for row in cursor.fetchall():\n",
    "    print(row)\n",
    "\n",
    "# Let's check if we have data in the dimension tables\n",
    "cursor.execute(\"SELECT COUNT(*) FROM CustomerDim\")\n",
    "customer_count = cursor.fetchone()[0]\n",
    "cursor.execute(\"SELECT COUNT(*) FROM ProductDim\")\n",
    "product_count = cursor.fetchone()[0]\n",
    "cursor.execute(\"SELECT COUNT(*) FROM TimeDim\")\n",
    "time_count = cursor.fetchone()[0]\n",
    "\n",
    "print(f\"\\nDimension table counts:\")\n",
    "print(f\"CustomerDim: {customer_count} rows\")\n",
    "print(f\"ProductDim: {product_count} rows\")\n",
    "print(f\"TimeDim: {time_count} rows\")"
   ]
  },
  {
   "cell_type": "code",
   "execution_count": 115,
   "id": "4d53049d",
   "metadata": {},
   "outputs": [
    {
     "name": "stdout",
     "output_type": "stream",
     "text": [
      "Batch: Inserted 6589 rows, total: 6589\n",
      "Batch: Inserted 4719 rows, total: 11308\n",
      "Batch: Inserted 6422 rows, total: 17730\n",
      "Batch: Inserted 7808 rows, total: 25538\n",
      "Batch: Inserted 6950 rows, total: 32488\n",
      "Batch: Inserted 7890 rows, total: 40378\n",
      "Batch: Inserted 7348 rows, total: 47726\n",
      "Batch: Inserted 7630 rows, total: 55356\n",
      "Batch: Inserted 7995 rows, total: 63351\n",
      "Batch: Inserted 7358 rows, total: 70709\n",
      "Batch: Inserted 8801 rows, total: 79510\n",
      "Batch: Inserted 6812 rows, total: 86322\n",
      "Batch: Inserted 7579 rows, total: 93901\n",
      "Batch: Inserted 7295 rows, total: 101196\n",
      "Batch: Inserted 8019 rows, total: 109215\n",
      "Batch: Inserted 8308 rows, total: 117523\n",
      "Batch: Inserted 7663 rows, total: 125186\n",
      "Batch: Inserted 7257 rows, total: 132443\n",
      "Batch: Inserted 8016 rows, total: 140459\n",
      "Batch: Inserted 6733 rows, total: 147192\n",
      "Batch: Inserted 6115 rows, total: 153307\n",
      "Batch: Inserted 7020 rows, total: 160327\n",
      "Batch: Inserted 7130 rows, total: 167457\n",
      "Batch: Inserted 8417 rows, total: 175874\n",
      "Batch: Inserted 7396 rows, total: 183270\n",
      "Batch: Inserted 9361 rows, total: 192631\n",
      "Batch: Inserted 6584 rows, total: 199215\n",
      "Batch: Inserted 7289 rows, total: 206504\n",
      "Batch: Inserted 8431 rows, total: 214935\n",
      "Batch: Inserted 7996 rows, total: 222931\n",
      "Batch: Inserted 8660 rows, total: 231591\n",
      "Batch: Inserted 8388 rows, total: 239979\n",
      "Batch: Inserted 8275 rows, total: 248254\n",
      "Batch: Inserted 8495 rows, total: 256749\n",
      "Batch: Inserted 8206 rows, total: 264955\n",
      "Batch: Inserted 8775 rows, total: 273730\n",
      "Batch: Inserted 8072 rows, total: 281802\n",
      "Batch: Inserted 8202 rows, total: 290004\n",
      "Batch: Inserted 8474 rows, total: 298478\n",
      "Batch: Inserted 7528 rows, total: 306006\n",
      "Batch: Inserted 8082 rows, total: 314088\n",
      "Batch: Inserted 6762 rows, total: 320850\n",
      "Batch: Inserted 8539 rows, total: 329389\n",
      "Batch: Inserted 6864 rows, total: 336253\n",
      "Batch: Inserted 8269 rows, total: 344522\n",
      "Batch: Inserted 6872 rows, total: 351394\n",
      "Batch: Inserted 7765 rows, total: 359159\n",
      "Batch: Inserted 6095 rows, total: 365254\n",
      "Batch: Inserted 1701 rows, total: 366955\n",
      "\n",
      "Successfully inserted 366955 rows into SalesFact table\n",
      "Database schema created and populated successfully at: c:\\Users\\admin\\OneDrive\\Desktop\\School\\Summer Sem 2025\\Data Warehousing\\END SEMESTER PROJECT\\DSA-2040_Practical_Exam_-Calvin_035-\\Data Warehousing\\ETL_Process\\retail_dw.db\n"
     ]
    }
   ],
   "source": [
    "# First, let's drop the existing SalesFact table and recreate it\n",
    "cursor.execute(\"DROP TABLE IF EXISTS SalesFact\")\n",
    "cursor.execute('''\n",
    "CREATE TABLE IF NOT EXISTS SalesFact (\n",
    "    SaleID INTEGER PRIMARY KEY AUTOINCREMENT,\n",
    "    CustomerID INTEGER,\n",
    "    ProductID INTEGER,\n",
    "    TimeID INTEGER,\n",
    "    Quantity INTEGER,\n",
    "    TotalPrice REAL,\n",
    "    FOREIGN KEY (CustomerID) REFERENCES CustomerDim(CustomerID),\n",
    "    FOREIGN KEY (ProductID) REFERENCES ProductDim(ProductID),\n",
    "    FOREIGN KEY (TimeID) REFERENCES TimeDim(TimeID)\n",
    ")\n",
    "''')\n",
    "\n",
    "# Create a mapping from Description to ProductID for faster lookups\n",
    "cursor.execute(\"SELECT ProductID, Description FROM ProductDim\")\n",
    "product_map = {desc: pid for pid, desc in cursor.fetchall()}\n",
    "\n",
    "# We need to work with the TimeDim data differently\n",
    "# Create a mapping for dates using Year, Month, Day, Hour\n",
    "date_map = {}\n",
    "cursor.execute(\"SELECT TimeID, Year, Month, Day, Hour FROM TimeDim\")\n",
    "for time_id, year, month, day, hour in cursor.fetchall():\n",
    "    date_key = f\"{year}-{month}-{day}-{hour}\"\n",
    "    date_map[date_key] = time_id\n",
    "\n",
    "# Insert data into SalesFact in batches\n",
    "batch_size = 10000\n",
    "total_inserted = 0\n",
    "\n",
    "# Process in batches\n",
    "for i in range(0, len(df), batch_size):\n",
    "    batch = df.iloc[i:i+batch_size]\n",
    "    \n",
    "    # Prepare batch data\n",
    "    sales_data = []\n",
    "    for _, row in batch.iterrows():\n",
    "        # Skip if missing customer ID\n",
    "        if pd.isna(row['CustomerID']):\n",
    "            continue\n",
    "        \n",
    "        # Get product ID\n",
    "        product_id = product_map.get(row['Description'])\n",
    "        \n",
    "        # Get time ID by constructing the key\n",
    "        date_key = f\"{row['Year']}-{row['Month']}-{row['Day']}-{row['Hour']}\"\n",
    "        time_id = date_map.get(date_key)\n",
    "        \n",
    "        # Add to batch if all mappings exist\n",
    "        if product_id and time_id:\n",
    "            sales_data.append((\n",
    "                int(row['CustomerID']),\n",
    "                product_id,\n",
    "                time_id,\n",
    "                int(row['Quantity']),\n",
    "                float(row['TotalPrice'])\n",
    "            ))\n",
    "    \n",
    "    # Insert batch\n",
    "    if sales_data:\n",
    "        cursor.executemany(\n",
    "            \"INSERT INTO SalesFact (CustomerID, ProductID, TimeID, Quantity, TotalPrice) VALUES (?, ?, ?, ?, ?)\",\n",
    "            sales_data\n",
    "        )\n",
    "        inserted = len(sales_data)\n",
    "        total_inserted += inserted\n",
    "        # print(f\"Batch: Inserted {inserted} rows, total: {total_inserted}\")\n",
    "\n",
    "# Commit and close\n",
    "conn.commit()\n",
    "print(f\"\\nSuccessfully inserted {total_inserted} rows into SalesFact table\")\n",
    "print(f\"Database schema created and populated successfully at: {os.path.abspath(db_path)}\")\n",
    "conn.close()"
   ]
  },
  {
   "cell_type": "code",
   "execution_count": 116,
   "id": "a08f2eeb",
   "metadata": {},
   "outputs": [
    {
     "name": "stdout",
     "output_type": "stream",
     "text": [
      "Final table row counts:\n",
      "CustomerDim: 4219 rows\n",
      "ProductDim: 14096 rows\n",
      "TimeDim: 17069 rows\n",
      "SalesFact: 366955 rows\n",
      "\n",
      "Sample data from joined tables:\n",
      "(13313, 'United Kingdom', 'JUMBO BAG PINK POLKADOT', 2011, 1, 4, 10, 19.5)\n",
      "(13313, 'United Kingdom', 'BLUE POLKADOT WRAP', 2011, 1, 4, 25, 10.5)\n",
      "(13313, 'United Kingdom', 'RED RETROSPOT WRAP ', 2011, 1, 4, 25, 10.5)\n",
      "(13313, 'United Kingdom', 'RECYCLING BAG RETROSPOT ', 2011, 1, 4, 5, 10.5)\n",
      "(13313, 'United Kingdom', 'RED RETROSPOT SHOPPER BAG', 2011, 1, 4, 10, 12.5)\n",
      "(13313, 'United Kingdom', 'JUMBO BAG RED RETROSPOT', 2011, 1, 4, 10, 19.5)\n",
      "(13313, 'United Kingdom', 'RED RETROSPOT CHILDRENS UMBRELLA', 2011, 1, 4, 6, 19.5)\n",
      "(13313, 'United Kingdom', 'JAM MAKING SET PRINTED', 2011, 1, 4, 12, 17.4)\n",
      "(13313, 'United Kingdom', 'RECIPE BOX RETROSPOT ', 2011, 1, 4, 6, 17.700000000000003)\n",
      "(13313, 'United Kingdom', 'CHILDRENS APRON APPLES DESIGN', 2011, 1, 4, 8, 15.6)\n"
     ]
    }
   ],
   "source": [
    "# Reconnect to the database to verify our data\n",
    "conn = sqlite3.connect(db_path)\n",
    "cursor = conn.cursor()\n",
    "\n",
    "# Check row counts in each table\n",
    "cursor.execute(\"SELECT COUNT(*) FROM CustomerDim\")\n",
    "customer_count = cursor.fetchone()[0]\n",
    "\n",
    "cursor.execute(\"SELECT COUNT(*) FROM ProductDim\")\n",
    "product_count = cursor.fetchone()[0]\n",
    "\n",
    "cursor.execute(\"SELECT COUNT(*) FROM TimeDim\")\n",
    "time_count = cursor.fetchone()[0]\n",
    "\n",
    "cursor.execute(\"SELECT COUNT(*) FROM SalesFact\")\n",
    "sales_count = cursor.fetchone()[0]\n",
    "\n",
    "print(\"Final table row counts:\")\n",
    "print(f\"CustomerDim: {customer_count} rows\")\n",
    "print(f\"ProductDim: {product_count} rows\")\n",
    "print(f\"TimeDim: {time_count} rows\")\n",
    "print(f\"SalesFact: {sales_count} rows\")\n",
    "\n",
    "# Run a sample query to join fact and dimension tables\n",
    "query = \"\"\"\n",
    "SELECT \n",
    "    c.CustomerID, \n",
    "    c.Country, \n",
    "    p.Description, \n",
    "    t.Year, \n",
    "    t.Month, \n",
    "    t.Day,\n",
    "    s.Quantity, \n",
    "    s.TotalPrice\n",
    "FROM SalesFact s\n",
    "JOIN CustomerDim c ON s.CustomerID = c.CustomerID\n",
    "JOIN ProductDim p ON s.ProductID = p.ProductID\n",
    "JOIN TimeDim t ON s.TimeID = t.TimeID\n",
    "LIMIT 10\n",
    "\"\"\"\n",
    "\n",
    "cursor.execute(query)\n",
    "results = cursor.fetchall()\n",
    "\n",
    "print(\"\\nSample data from joined tables:\")\n",
    "for row in results:\n",
    "    print(row)\n",
    "\n",
    "# Close the connection\n",
    "conn.close()"
   ]
  },
  {
   "cell_type": "code",
   "execution_count": 118,
   "id": "c623df67",
   "metadata": {},
   "outputs": [
    {
     "data": {
      "application/vnd.microsoft.datawrangler.viewer.v0+json": {
       "columns": [
        {
         "name": "index",
         "rawType": "int64",
         "type": "integer"
        },
        {
         "name": "Country",
         "rawType": "object",
         "type": "string"
        },
        {
         "name": "TotalSales",
         "rawType": "float64",
         "type": "float"
        }
       ],
       "ref": "bb7e7b23-6c39-477d-b5b7-5783b9a63ae9",
       "rows": [
        [
         "0",
         "United Kingdom",
         "6787027.064"
        ],
        [
         "1",
         "Netherlands",
         "276661.86"
        ],
        [
         "2",
         "EIRE",
         "256448.58000000002"
        ],
        [
         "3",
         "Germany",
         "213454.66"
        ],
        [
         "4",
         "France",
         "199318.0"
        ]
       ],
       "shape": {
        "columns": 2,
        "rows": 5
       }
      },
      "text/html": [
       "<div>\n",
       "<style scoped>\n",
       "    .dataframe tbody tr th:only-of-type {\n",
       "        vertical-align: middle;\n",
       "    }\n",
       "\n",
       "    .dataframe tbody tr th {\n",
       "        vertical-align: top;\n",
       "    }\n",
       "\n",
       "    .dataframe thead th {\n",
       "        text-align: right;\n",
       "    }\n",
       "</style>\n",
       "<table border=\"1\" class=\"dataframe\">\n",
       "  <thead>\n",
       "    <tr style=\"text-align: right;\">\n",
       "      <th></th>\n",
       "      <th>Country</th>\n",
       "      <th>TotalSales</th>\n",
       "    </tr>\n",
       "  </thead>\n",
       "  <tbody>\n",
       "    <tr>\n",
       "      <th>0</th>\n",
       "      <td>United Kingdom</td>\n",
       "      <td>6787027.064</td>\n",
       "    </tr>\n",
       "    <tr>\n",
       "      <th>1</th>\n",
       "      <td>Netherlands</td>\n",
       "      <td>276661.860</td>\n",
       "    </tr>\n",
       "    <tr>\n",
       "      <th>2</th>\n",
       "      <td>EIRE</td>\n",
       "      <td>256448.580</td>\n",
       "    </tr>\n",
       "    <tr>\n",
       "      <th>3</th>\n",
       "      <td>Germany</td>\n",
       "      <td>213454.660</td>\n",
       "    </tr>\n",
       "    <tr>\n",
       "      <th>4</th>\n",
       "      <td>France</td>\n",
       "      <td>199318.000</td>\n",
       "    </tr>\n",
       "  </tbody>\n",
       "</table>\n",
       "</div>"
      ],
      "text/plain": [
       "          Country   TotalSales\n",
       "0  United Kingdom  6787027.064\n",
       "1     Netherlands   276661.860\n",
       "2            EIRE   256448.580\n",
       "3         Germany   213454.660\n",
       "4          France   199318.000"
      ]
     },
     "execution_count": 118,
     "metadata": {},
     "output_type": "execute_result"
    }
   ],
   "source": [
    "# Establish conn\n",
    "conn = sqlite3.connect(db_path)\n",
    "# Extract some data: Total sales by country\n",
    "query_total_sales_by_country = \"\"\"SELECT c.Country, SUM(s.TotalPrice) as TotalSales\n",
    "FROM SalesFact s\n",
    "JOIN CustomerDim c ON s.CustomerID = c.CustomerID\n",
    "GROUP BY c.Country\n",
    "ORDER BY TotalSales DESC\n",
    "\"\"\"\n",
    "# Load the query results into a DataFrame\n",
    "df_total_sales_by_country = pd.read_sql_query(query_total_sales_by_country, conn)\n",
    "df_total_sales_by_country.head()"
   ]
  },
  {
   "cell_type": "markdown",
   "id": "950a7624",
   "metadata": {},
   "source": [
    "## Data Loading Summary\n",
    "\n",
    "We've successfully created a SQLite database named `retail_dw.db` with a star schema design:\n",
    "\n",
    "**Dimension Tables:**\n",
    "1. **CustomerDim** - Contains customer information with 4,219 unique customers\n",
    "   - CustomerID (Primary Key)\n",
    "   - Country\n",
    "\n",
    "2. **ProductDim** - Contains product information with 14,096 unique products\n",
    "   - ProductID (Primary Key)\n",
    "   - Description\n",
    "   - UnitPrice\n",
    "\n",
    "3. **TimeDim** - Contains time-related information with 17,069 unique date/time combinations\n",
    "   - TimeID (Primary Key)\n",
    "   - InvoiceDate\n",
    "   - Year\n",
    "   - Month\n",
    "   - Day\n",
    "   - Hour\n",
    "\n",
    "**Fact Table:**\n",
    "- **SalesFact** - Contains 366,955 sales transactions\n",
    "   - SaleID (Primary Key)\n",
    "   - CustomerID (Foreign Key)\n",
    "   - ProductID (Foreign Key)\n",
    "   - TimeID (Foreign Key)\n",
    "   - Quantity\n",
    "   - TotalPrice\n",
    "\n",
    "This data warehouse structure allows for efficient analysis of sales data across different dimensions such as time, products, and customers. You can run SQL queries against this database to answer business questions and generate reports.\n",
    "\n",
    "**Example SQL queries you can run:**\n",
    "\n",
    "\n",
    "\n",
    "2. Sales trends by month:\n",
    "```sql\n",
    "SELECT t.Year, t.Month, SUM(s.TotalPrice) as MonthlySales\n",
    "FROM SalesFact s\n",
    "JOIN TimeDim t ON s.TimeID = t.TimeID\n",
    "GROUP BY t.Year, t.Month\n",
    "ORDER BY t.Year, t.Month\n",
    "```\n",
    "\n",
    "3. Top selling products:\n",
    "```sql\n",
    "SELECT p.Description, SUM(s.Quantity) as TotalQuantity\n",
    "FROM SalesFact s\n",
    "JOIN ProductDim p ON s.ProductID = p.ProductID\n",
    "GROUP BY p.Description\n",
    "ORDER BY TotalQuantity DESC\n",
    "LIMIT 10\n",
    "```"
   ]
  }
 ],
 "metadata": {
  "kernelspec": {
   "display_name": "Python 3",
   "language": "python",
   "name": "python3"
  },
  "language_info": {
   "codemirror_mode": {
    "name": "ipython",
    "version": 3
   },
   "file_extension": ".py",
   "mimetype": "text/x-python",
   "name": "python",
   "nbconvert_exporter": "python",
   "pygments_lexer": "ipython3",
   "version": "3.13.5"
  }
 },
 "nbformat": 4,
 "nbformat_minor": 5
}
