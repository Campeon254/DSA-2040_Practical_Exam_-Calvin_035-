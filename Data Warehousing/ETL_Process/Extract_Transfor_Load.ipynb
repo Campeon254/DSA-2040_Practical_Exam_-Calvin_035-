{
 "cells": [
  {
   "cell_type": "markdown",
   "id": "b0e7586c",
   "metadata": {},
   "source": [
    "## 1) Extraction\n",
    "The first step in the ETL process is to extract data from various source systems. In this case, we will extract data from UC Irvine's Machine Learning Repository. To do this, we will use the `ucimlrepo` package to fetch the dataset."
   ]
  },
  {
   "cell_type": "code",
   "execution_count": 151,
   "id": "3cb96cf2",
   "metadata": {},
   "outputs": [
    {
     "data": {
      "application/vnd.microsoft.datawrangler.viewer.v0+json": {
       "columns": [
        {
         "name": "index",
         "rawType": "int64",
         "type": "integer"
        },
        {
         "name": "Description",
         "rawType": "object",
         "type": "string"
        },
        {
         "name": "Quantity",
         "rawType": "int64",
         "type": "integer"
        },
        {
         "name": "InvoiceDate",
         "rawType": "object",
         "type": "string"
        },
        {
         "name": "UnitPrice",
         "rawType": "float64",
         "type": "float"
        },
        {
         "name": "CustomerID",
         "rawType": "float64",
         "type": "float"
        },
        {
         "name": "Country",
         "rawType": "object",
         "type": "string"
        }
       ],
       "ref": "d8428f29-1bcb-4a44-abe1-dd29b49c1eb8",
       "rows": [
        [
         "0",
         "WHITE HANGING HEART T-LIGHT HOLDER",
         "6",
         "12/1/2010 8:26",
         "2.55",
         "17850.0",
         "United Kingdom"
        ],
        [
         "1",
         "WHITE METAL LANTERN",
         "6",
         "12/1/2010 8:26",
         "3.39",
         "17850.0",
         "United Kingdom"
        ],
        [
         "2",
         "CREAM CUPID HEARTS COAT HANGER",
         "8",
         "12/1/2010 8:26",
         "2.75",
         "17850.0",
         "United Kingdom"
        ],
        [
         "3",
         "KNITTED UNION FLAG HOT WATER BOTTLE",
         "6",
         "12/1/2010 8:26",
         "3.39",
         "17850.0",
         "United Kingdom"
        ],
        [
         "4",
         "RED WOOLLY HOTTIE WHITE HEART.",
         "6",
         "12/1/2010 8:26",
         "3.39",
         "17850.0",
         "United Kingdom"
        ]
       ],
       "shape": {
        "columns": 6,
        "rows": 5
       }
      },
      "text/html": [
       "<div>\n",
       "<style scoped>\n",
       "    .dataframe tbody tr th:only-of-type {\n",
       "        vertical-align: middle;\n",
       "    }\n",
       "\n",
       "    .dataframe tbody tr th {\n",
       "        vertical-align: top;\n",
       "    }\n",
       "\n",
       "    .dataframe thead th {\n",
       "        text-align: right;\n",
       "    }\n",
       "</style>\n",
       "<table border=\"1\" class=\"dataframe\">\n",
       "  <thead>\n",
       "    <tr style=\"text-align: right;\">\n",
       "      <th></th>\n",
       "      <th>Description</th>\n",
       "      <th>Quantity</th>\n",
       "      <th>InvoiceDate</th>\n",
       "      <th>UnitPrice</th>\n",
       "      <th>CustomerID</th>\n",
       "      <th>Country</th>\n",
       "    </tr>\n",
       "  </thead>\n",
       "  <tbody>\n",
       "    <tr>\n",
       "      <th>0</th>\n",
       "      <td>WHITE HANGING HEART T-LIGHT HOLDER</td>\n",
       "      <td>6</td>\n",
       "      <td>12/1/2010 8:26</td>\n",
       "      <td>2.55</td>\n",
       "      <td>17850.0</td>\n",
       "      <td>United Kingdom</td>\n",
       "    </tr>\n",
       "    <tr>\n",
       "      <th>1</th>\n",
       "      <td>WHITE METAL LANTERN</td>\n",
       "      <td>6</td>\n",
       "      <td>12/1/2010 8:26</td>\n",
       "      <td>3.39</td>\n",
       "      <td>17850.0</td>\n",
       "      <td>United Kingdom</td>\n",
       "    </tr>\n",
       "    <tr>\n",
       "      <th>2</th>\n",
       "      <td>CREAM CUPID HEARTS COAT HANGER</td>\n",
       "      <td>8</td>\n",
       "      <td>12/1/2010 8:26</td>\n",
       "      <td>2.75</td>\n",
       "      <td>17850.0</td>\n",
       "      <td>United Kingdom</td>\n",
       "    </tr>\n",
       "    <tr>\n",
       "      <th>3</th>\n",
       "      <td>KNITTED UNION FLAG HOT WATER BOTTLE</td>\n",
       "      <td>6</td>\n",
       "      <td>12/1/2010 8:26</td>\n",
       "      <td>3.39</td>\n",
       "      <td>17850.0</td>\n",
       "      <td>United Kingdom</td>\n",
       "    </tr>\n",
       "    <tr>\n",
       "      <th>4</th>\n",
       "      <td>RED WOOLLY HOTTIE WHITE HEART.</td>\n",
       "      <td>6</td>\n",
       "      <td>12/1/2010 8:26</td>\n",
       "      <td>3.39</td>\n",
       "      <td>17850.0</td>\n",
       "      <td>United Kingdom</td>\n",
       "    </tr>\n",
       "  </tbody>\n",
       "</table>\n",
       "</div>"
      ],
      "text/plain": [
       "                           Description  Quantity     InvoiceDate  UnitPrice  \\\n",
       "0   WHITE HANGING HEART T-LIGHT HOLDER         6  12/1/2010 8:26       2.55   \n",
       "1                  WHITE METAL LANTERN         6  12/1/2010 8:26       3.39   \n",
       "2       CREAM CUPID HEARTS COAT HANGER         8  12/1/2010 8:26       2.75   \n",
       "3  KNITTED UNION FLAG HOT WATER BOTTLE         6  12/1/2010 8:26       3.39   \n",
       "4       RED WOOLLY HOTTIE WHITE HEART.         6  12/1/2010 8:26       3.39   \n",
       "\n",
       "   CustomerID         Country  \n",
       "0     17850.0  United Kingdom  \n",
       "1     17850.0  United Kingdom  \n",
       "2     17850.0  United Kingdom  \n",
       "3     17850.0  United Kingdom  \n",
       "4     17850.0  United Kingdom  "
      ]
     },
     "execution_count": 151,
     "metadata": {},
     "output_type": "execute_result"
    }
   ],
   "source": [
    "# Load necessary Libraries\n",
    "import pandas as pd\n",
    "from datetime import datetime\n",
    "\n",
    "# Load the data\n",
    "data = pd.read_csv(\"Data/online_retail_features.csv\")\n",
    "data.head()"
   ]
  },
  {
   "cell_type": "markdown",
   "id": "e4c70cff",
   "metadata": {},
   "source": [
    "### a) Description of the data"
   ]
  },
  {
   "cell_type": "code",
   "execution_count": 152,
   "id": "48cf9e37",
   "metadata": {},
   "outputs": [
    {
     "name": "stdout",
     "output_type": "stream",
     "text": [
      "<class 'pandas.core.frame.DataFrame'>\n",
      "RangeIndex: 541909 entries, 0 to 541908\n",
      "Data columns (total 6 columns):\n",
      " #   Column       Non-Null Count   Dtype  \n",
      "---  ------       --------------   -----  \n",
      " 0   Description  540455 non-null  object \n",
      " 1   Quantity     541909 non-null  int64  \n",
      " 2   InvoiceDate  541909 non-null  object \n",
      " 3   UnitPrice    541909 non-null  float64\n",
      " 4   CustomerID   406829 non-null  float64\n",
      " 5   Country      541909 non-null  object \n",
      "dtypes: float64(2), int64(1), object(3)\n",
      "memory usage: 24.8+ MB\n",
      "This is a description of the data:\n",
      "None\n",
      "Missing values in each column:\n",
      "Description      1454\n",
      "Quantity            0\n",
      "InvoiceDate         0\n",
      "UnitPrice           0\n",
      "CustomerID     135080\n",
      "Country             0\n",
      "dtype: int64\n",
      "Duplicate rows:\n",
      "6007\n",
      "Duplicate rows:\n",
      "6007\n"
     ]
    }
   ],
   "source": [
    "# Describe the data\n",
    "print(f\"This is a description of the data:\\n{data.info()}\")\n",
    "\n",
    "# Check for missing values\n",
    "print(f\"Missing values in each column:\\n{data.isnull().sum()}\")\n",
    "\n",
    "# Check for duplicates\n",
    "print(f\"Duplicate rows:\\n{data.duplicated().sum()}\")\n"
   ]
  },
  {
   "cell_type": "markdown",
   "id": "c883c2d3",
   "metadata": {},
   "source": [
    "- The data has 6 records and 541909 records.\n",
    "- All columns are in the correct format apart from `InvoiceDate` which is in string format and should be converted to datetime, and `CustomerID` which is in float format and should be converted to string.\n",
    "- The data contains some missing values in the `CustomerID` and `Description` columns.\n",
    "- There are duplicate rows in the data."
   ]
  },
  {
   "cell_type": "markdown",
   "id": "08cfa31a",
   "metadata": {},
   "source": [
    "### b) Data Cleaning\n",
    "This process will involve:\n",
    "- Dropping the missing values since they are not significant enough to impute.\n",
    "- Converting the `InvoiceDate` column to datetime format.\n",
    "- Converting the `CustomerID` column to string format.\n",
    "- Removing duplicate rows.\n"
   ]
  },
  {
   "cell_type": "code",
   "execution_count": 153,
   "id": "a4b61bac",
   "metadata": {},
   "outputs": [
    {
     "name": "stdout",
     "output_type": "stream",
     "text": [
      "Data size after cleaning: (534532, 6)\n"
     ]
    },
    {
     "data": {
      "application/vnd.microsoft.datawrangler.viewer.v0+json": {
       "columns": [
        {
         "name": "index",
         "rawType": "int64",
         "type": "integer"
        },
        {
         "name": "Description",
         "rawType": "object",
         "type": "string"
        },
        {
         "name": "Quantity",
         "rawType": "int64",
         "type": "integer"
        },
        {
         "name": "InvoiceDate",
         "rawType": "datetime64[ns]",
         "type": "datetime"
        },
        {
         "name": "UnitPrice",
         "rawType": "float64",
         "type": "float"
        },
        {
         "name": "CustomerID",
         "rawType": "object",
         "type": "string"
        },
        {
         "name": "Country",
         "rawType": "object",
         "type": "string"
        }
       ],
       "ref": "04d08ea5-9e1c-47ef-9172-93d18d65f824",
       "rows": [
        [
         "0",
         "WHITE HANGING HEART T-LIGHT HOLDER",
         "6",
         "2010-12-01 08:26:00",
         "2.55",
         "17850.0",
         "United Kingdom"
        ],
        [
         "1",
         "WHITE METAL LANTERN",
         "6",
         "2010-12-01 08:26:00",
         "3.39",
         "17850.0",
         "United Kingdom"
        ],
        [
         "2",
         "CREAM CUPID HEARTS COAT HANGER",
         "8",
         "2010-12-01 08:26:00",
         "2.75",
         "17850.0",
         "United Kingdom"
        ],
        [
         "3",
         "KNITTED UNION FLAG HOT WATER BOTTLE",
         "6",
         "2010-12-01 08:26:00",
         "3.39",
         "17850.0",
         "United Kingdom"
        ],
        [
         "4",
         "RED WOOLLY HOTTIE WHITE HEART.",
         "6",
         "2010-12-01 08:26:00",
         "3.39",
         "17850.0",
         "United Kingdom"
        ]
       ],
       "shape": {
        "columns": 6,
        "rows": 5
       }
      },
      "text/html": [
       "<div>\n",
       "<style scoped>\n",
       "    .dataframe tbody tr th:only-of-type {\n",
       "        vertical-align: middle;\n",
       "    }\n",
       "\n",
       "    .dataframe tbody tr th {\n",
       "        vertical-align: top;\n",
       "    }\n",
       "\n",
       "    .dataframe thead th {\n",
       "        text-align: right;\n",
       "    }\n",
       "</style>\n",
       "<table border=\"1\" class=\"dataframe\">\n",
       "  <thead>\n",
       "    <tr style=\"text-align: right;\">\n",
       "      <th></th>\n",
       "      <th>Description</th>\n",
       "      <th>Quantity</th>\n",
       "      <th>InvoiceDate</th>\n",
       "      <th>UnitPrice</th>\n",
       "      <th>CustomerID</th>\n",
       "      <th>Country</th>\n",
       "    </tr>\n",
       "  </thead>\n",
       "  <tbody>\n",
       "    <tr>\n",
       "      <th>0</th>\n",
       "      <td>WHITE HANGING HEART T-LIGHT HOLDER</td>\n",
       "      <td>6</td>\n",
       "      <td>2010-12-01 08:26:00</td>\n",
       "      <td>2.55</td>\n",
       "      <td>17850.0</td>\n",
       "      <td>United Kingdom</td>\n",
       "    </tr>\n",
       "    <tr>\n",
       "      <th>1</th>\n",
       "      <td>WHITE METAL LANTERN</td>\n",
       "      <td>6</td>\n",
       "      <td>2010-12-01 08:26:00</td>\n",
       "      <td>3.39</td>\n",
       "      <td>17850.0</td>\n",
       "      <td>United Kingdom</td>\n",
       "    </tr>\n",
       "    <tr>\n",
       "      <th>2</th>\n",
       "      <td>CREAM CUPID HEARTS COAT HANGER</td>\n",
       "      <td>8</td>\n",
       "      <td>2010-12-01 08:26:00</td>\n",
       "      <td>2.75</td>\n",
       "      <td>17850.0</td>\n",
       "      <td>United Kingdom</td>\n",
       "    </tr>\n",
       "    <tr>\n",
       "      <th>3</th>\n",
       "      <td>KNITTED UNION FLAG HOT WATER BOTTLE</td>\n",
       "      <td>6</td>\n",
       "      <td>2010-12-01 08:26:00</td>\n",
       "      <td>3.39</td>\n",
       "      <td>17850.0</td>\n",
       "      <td>United Kingdom</td>\n",
       "    </tr>\n",
       "    <tr>\n",
       "      <th>4</th>\n",
       "      <td>RED WOOLLY HOTTIE WHITE HEART.</td>\n",
       "      <td>6</td>\n",
       "      <td>2010-12-01 08:26:00</td>\n",
       "      <td>3.39</td>\n",
       "      <td>17850.0</td>\n",
       "      <td>United Kingdom</td>\n",
       "    </tr>\n",
       "  </tbody>\n",
       "</table>\n",
       "</div>"
      ],
      "text/plain": [
       "                           Description  Quantity         InvoiceDate  \\\n",
       "0   WHITE HANGING HEART T-LIGHT HOLDER         6 2010-12-01 08:26:00   \n",
       "1                  WHITE METAL LANTERN         6 2010-12-01 08:26:00   \n",
       "2       CREAM CUPID HEARTS COAT HANGER         8 2010-12-01 08:26:00   \n",
       "3  KNITTED UNION FLAG HOT WATER BOTTLE         6 2010-12-01 08:26:00   \n",
       "4       RED WOOLLY HOTTIE WHITE HEART.         6 2010-12-01 08:26:00   \n",
       "\n",
       "   UnitPrice CustomerID         Country  \n",
       "0       2.55    17850.0  United Kingdom  \n",
       "1       3.39    17850.0  United Kingdom  \n",
       "2       2.75    17850.0  United Kingdom  \n",
       "3       3.39    17850.0  United Kingdom  \n",
       "4       3.39    17850.0  United Kingdom  "
      ]
     },
     "execution_count": 153,
     "metadata": {},
     "output_type": "execute_result"
    }
   ],
   "source": [
    "# Converting InvoiceDate to datetime\n",
    "data['InvoiceDate'] = pd.to_datetime(data['InvoiceDate'])\n",
    "\n",
    "# Converting CustomerID to string\n",
    "data['CustomerID'] = data['CustomerID'].astype(str)\n",
    "\n",
    "# Removing duplicate rows\n",
    "data = data.drop_duplicates()\n",
    "\n",
    "# Remove missing values in specific columns\n",
    "data = data.dropna(subset=['CustomerID', 'Description'])\n",
    "\n",
    "# Resetting the index\n",
    "data = data.reset_index(drop=True)\n",
    "print(f\"Data size after cleaning: {data.shape}\")\n",
    "data.head()"
   ]
  },
  {
   "cell_type": "markdown",
   "id": "e3b390ef",
   "metadata": {},
   "source": [
    "## 2) Transformation\n",
    "The transformation process will involve:\n",
    "- Create dimensions like extract where you group by `CustomerID` to create customer summary.\n",
    "- Creating new calculated columns: `TotalPrice` = `Quantity` * `UnitPrice`\n",
    "- Filtering data to the sales of the year. The entire year 2011.\n",
    "- Handle outliers by removing values whose `Quantity` < 0 and `UnitPrice` < 0"
   ]
  },
  {
   "cell_type": "code",
   "execution_count": 154,
   "id": "3edcc1c7",
   "metadata": {},
   "outputs": [
    {
     "name": "stdout",
     "output_type": "stream",
     "text": [
      "Last value of invoice: 2011-12-09 12:50:00\n"
     ]
    }
   ],
   "source": [
    "# Last value of invoice\n",
    "last_invoice_date = data['InvoiceDate'].max()\n",
    "print(f\"Last value of invoice: {last_invoice_date}\")"
   ]
  },
  {
   "cell_type": "markdown",
   "id": "37a40b74",
   "metadata": {},
   "source": [
    "### a) Incremental Extraction\n",
    "Selecting data from the year `2011-01-01` onwards."
   ]
  },
  {
   "cell_type": "code",
   "execution_count": 155,
   "id": "d8d37681",
   "metadata": {},
   "outputs": [],
   "source": [
    "# Filter data for the last year\n",
    "data = data[data['InvoiceDate'] >= '2011-01-01']"
   ]
  },
  {
   "cell_type": "code",
   "execution_count": 156,
   "id": "8606a0c6",
   "metadata": {},
   "outputs": [
    {
     "name": "stdout",
     "output_type": "stream",
     "text": [
      "Data size after transformations: (483353, 7)\n"
     ]
    },
    {
     "data": {
      "application/vnd.microsoft.datawrangler.viewer.v0+json": {
       "columns": [
        {
         "name": "index",
         "rawType": "object",
         "type": "string"
        },
        {
         "name": "Quantity",
         "rawType": "float64",
         "type": "float"
        },
        {
         "name": "InvoiceDate",
         "rawType": "object",
         "type": "unknown"
        },
        {
         "name": "UnitPrice",
         "rawType": "float64",
         "type": "float"
        },
        {
         "name": "TotalPrice",
         "rawType": "float64",
         "type": "float"
        }
       ],
       "ref": "228d77f5-2729-41e5-aaf6-b258fb6224a9",
       "rows": [
        [
         "count",
         "483353.0",
         "483353",
         "483353.0",
         "483353.0"
        ],
        [
         "mean",
         "10.785326666018417",
         "2011-07-22 04:04:34.842113280",
         "3.842620060287203",
         "20.30754511506084"
        ],
        [
         "min",
         "1.0",
         "2011-01-04 10:00:00",
         "0.001",
         "0.001"
        ],
        [
         "25%",
         "1.0",
         "2011-04-21 19:51:00",
         "1.25",
         "3.9000000000000004"
        ],
        [
         "50%",
         "4.0",
         "2011-08-05 16:34:00",
         "2.08",
         "9.95"
        ],
        [
         "75%",
         "12.0",
         "2011-10-25 12:11:00",
         "4.13",
         "17.700000000000003"
        ],
        [
         "max",
         "80995.0",
         "2011-12-09 12:50:00",
         "11062.06",
         "168469.6"
        ],
        [
         "std",
         "162.49143722244094",
         null,
         "31.563521861192005",
         "281.6809436337465"
        ]
       ],
       "shape": {
        "columns": 4,
        "rows": 8
       }
      },
      "text/html": [
       "<div>\n",
       "<style scoped>\n",
       "    .dataframe tbody tr th:only-of-type {\n",
       "        vertical-align: middle;\n",
       "    }\n",
       "\n",
       "    .dataframe tbody tr th {\n",
       "        vertical-align: top;\n",
       "    }\n",
       "\n",
       "    .dataframe thead th {\n",
       "        text-align: right;\n",
       "    }\n",
       "</style>\n",
       "<table border=\"1\" class=\"dataframe\">\n",
       "  <thead>\n",
       "    <tr style=\"text-align: right;\">\n",
       "      <th></th>\n",
       "      <th>Quantity</th>\n",
       "      <th>InvoiceDate</th>\n",
       "      <th>UnitPrice</th>\n",
       "      <th>TotalPrice</th>\n",
       "    </tr>\n",
       "  </thead>\n",
       "  <tbody>\n",
       "    <tr>\n",
       "      <th>count</th>\n",
       "      <td>483353.000000</td>\n",
       "      <td>483353</td>\n",
       "      <td>483353.000000</td>\n",
       "      <td>483353.000000</td>\n",
       "    </tr>\n",
       "    <tr>\n",
       "      <th>mean</th>\n",
       "      <td>10.785327</td>\n",
       "      <td>2011-07-22 04:04:34.842113280</td>\n",
       "      <td>3.842620</td>\n",
       "      <td>20.307545</td>\n",
       "    </tr>\n",
       "    <tr>\n",
       "      <th>min</th>\n",
       "      <td>1.000000</td>\n",
       "      <td>2011-01-04 10:00:00</td>\n",
       "      <td>0.001000</td>\n",
       "      <td>0.001000</td>\n",
       "    </tr>\n",
       "    <tr>\n",
       "      <th>25%</th>\n",
       "      <td>1.000000</td>\n",
       "      <td>2011-04-21 19:51:00</td>\n",
       "      <td>1.250000</td>\n",
       "      <td>3.900000</td>\n",
       "    </tr>\n",
       "    <tr>\n",
       "      <th>50%</th>\n",
       "      <td>4.000000</td>\n",
       "      <td>2011-08-05 16:34:00</td>\n",
       "      <td>2.080000</td>\n",
       "      <td>9.950000</td>\n",
       "    </tr>\n",
       "    <tr>\n",
       "      <th>75%</th>\n",
       "      <td>12.000000</td>\n",
       "      <td>2011-10-25 12:11:00</td>\n",
       "      <td>4.130000</td>\n",
       "      <td>17.700000</td>\n",
       "    </tr>\n",
       "    <tr>\n",
       "      <th>max</th>\n",
       "      <td>80995.000000</td>\n",
       "      <td>2011-12-09 12:50:00</td>\n",
       "      <td>11062.060000</td>\n",
       "      <td>168469.600000</td>\n",
       "    </tr>\n",
       "    <tr>\n",
       "      <th>std</th>\n",
       "      <td>162.491437</td>\n",
       "      <td>NaN</td>\n",
       "      <td>31.563522</td>\n",
       "      <td>281.680944</td>\n",
       "    </tr>\n",
       "  </tbody>\n",
       "</table>\n",
       "</div>"
      ],
      "text/plain": [
       "            Quantity                    InvoiceDate      UnitPrice  \\\n",
       "count  483353.000000                         483353  483353.000000   \n",
       "mean       10.785327  2011-07-22 04:04:34.842113280       3.842620   \n",
       "min         1.000000            2011-01-04 10:00:00       0.001000   \n",
       "25%         1.000000            2011-04-21 19:51:00       1.250000   \n",
       "50%         4.000000            2011-08-05 16:34:00       2.080000   \n",
       "75%        12.000000            2011-10-25 12:11:00       4.130000   \n",
       "max     80995.000000            2011-12-09 12:50:00   11062.060000   \n",
       "std       162.491437                            NaN      31.563522   \n",
       "\n",
       "          TotalPrice  \n",
       "count  483353.000000  \n",
       "mean       20.307545  \n",
       "min         0.001000  \n",
       "25%         3.900000  \n",
       "50%         9.950000  \n",
       "75%        17.700000  \n",
       "max    168469.600000  \n",
       "std       281.680944  "
      ]
     },
     "execution_count": 156,
     "metadata": {},
     "output_type": "execute_result"
    }
   ],
   "source": [
    "# Create a TotalPrice column\n",
    "data['TotalPrice'] = data['Quantity'] * data['UnitPrice']\n",
    "\n",
    "# Remove outliers\n",
    "data = data[(data['Quantity'] > 0) & (data['UnitPrice'] > 0)]\n",
    "print(f\"Data size after transformations: {data.shape}\")\n",
    "data.describe()"
   ]
  },
  {
   "cell_type": "code",
   "execution_count": 157,
   "id": "7fa3b9b7",
   "metadata": {},
   "outputs": [
    {
     "data": {
      "application/vnd.microsoft.datawrangler.viewer.v0+json": {
       "columns": [
        {
         "name": "index",
         "rawType": "int64",
         "type": "integer"
        },
        {
         "name": "CustomerID",
         "rawType": "object",
         "type": "string"
        },
        {
         "name": "TotalSales",
         "rawType": "float64",
         "type": "float"
        },
        {
         "name": "AverageSales",
         "rawType": "float64",
         "type": "float"
        },
        {
         "name": "PurchaseCount",
         "rawType": "int64",
         "type": "integer"
        },
        {
         "name": "FirstPurchase",
         "rawType": "datetime64[ns]",
         "type": "datetime"
        },
        {
         "name": "LastPurchase",
         "rawType": "datetime64[ns]",
         "type": "datetime"
        },
        {
         "name": "Country",
         "rawType": "object",
         "type": "string"
        }
       ],
       "ref": "ad57d3a4-c1b6-4fec-9f84-b177aac6794e",
       "rows": [
        [
         "0",
         "12346.0",
         "77183.6",
         "77183.6",
         "1",
         "2011-01-18 10:01:00",
         "2011-01-18 10:01:00",
         "United Kingdom"
        ],
        [
         "1",
         "12347.0",
         "3598.21",
         "23.829205298013246",
         "6",
         "2011-01-26 14:30:00",
         "2011-12-07 15:52:00",
         "Iceland"
        ],
        [
         "2",
         "12348.0",
         "904.44",
         "64.60285714285715",
         "3",
         "2011-01-25 10:42:00",
         "2011-09-25 13:13:00",
         "Finland"
        ],
        [
         "3",
         "12349.0",
         "1757.55",
         "24.076027397260273",
         "1",
         "2011-11-21 09:51:00",
         "2011-11-21 09:51:00",
         "Italy"
        ],
        [
         "4",
         "12350.0",
         "334.4",
         "19.670588235294115",
         "1",
         "2011-02-02 16:01:00",
         "2011-02-02 16:01:00",
         "Norway"
        ]
       ],
       "shape": {
        "columns": 7,
        "rows": 5
       }
      },
      "text/html": [
       "<div>\n",
       "<style scoped>\n",
       "    .dataframe tbody tr th:only-of-type {\n",
       "        vertical-align: middle;\n",
       "    }\n",
       "\n",
       "    .dataframe tbody tr th {\n",
       "        vertical-align: top;\n",
       "    }\n",
       "\n",
       "    .dataframe thead th {\n",
       "        text-align: right;\n",
       "    }\n",
       "</style>\n",
       "<table border=\"1\" class=\"dataframe\">\n",
       "  <thead>\n",
       "    <tr style=\"text-align: right;\">\n",
       "      <th></th>\n",
       "      <th>CustomerID</th>\n",
       "      <th>TotalSales</th>\n",
       "      <th>AverageSales</th>\n",
       "      <th>PurchaseCount</th>\n",
       "      <th>FirstPurchase</th>\n",
       "      <th>LastPurchase</th>\n",
       "      <th>Country</th>\n",
       "    </tr>\n",
       "  </thead>\n",
       "  <tbody>\n",
       "    <tr>\n",
       "      <th>0</th>\n",
       "      <td>12346.0</td>\n",
       "      <td>77183.60</td>\n",
       "      <td>77183.600000</td>\n",
       "      <td>1</td>\n",
       "      <td>2011-01-18 10:01:00</td>\n",
       "      <td>2011-01-18 10:01:00</td>\n",
       "      <td>United Kingdom</td>\n",
       "    </tr>\n",
       "    <tr>\n",
       "      <th>1</th>\n",
       "      <td>12347.0</td>\n",
       "      <td>3598.21</td>\n",
       "      <td>23.829205</td>\n",
       "      <td>6</td>\n",
       "      <td>2011-01-26 14:30:00</td>\n",
       "      <td>2011-12-07 15:52:00</td>\n",
       "      <td>Iceland</td>\n",
       "    </tr>\n",
       "    <tr>\n",
       "      <th>2</th>\n",
       "      <td>12348.0</td>\n",
       "      <td>904.44</td>\n",
       "      <td>64.602857</td>\n",
       "      <td>3</td>\n",
       "      <td>2011-01-25 10:42:00</td>\n",
       "      <td>2011-09-25 13:13:00</td>\n",
       "      <td>Finland</td>\n",
       "    </tr>\n",
       "    <tr>\n",
       "      <th>3</th>\n",
       "      <td>12349.0</td>\n",
       "      <td>1757.55</td>\n",
       "      <td>24.076027</td>\n",
       "      <td>1</td>\n",
       "      <td>2011-11-21 09:51:00</td>\n",
       "      <td>2011-11-21 09:51:00</td>\n",
       "      <td>Italy</td>\n",
       "    </tr>\n",
       "    <tr>\n",
       "      <th>4</th>\n",
       "      <td>12350.0</td>\n",
       "      <td>334.40</td>\n",
       "      <td>19.670588</td>\n",
       "      <td>1</td>\n",
       "      <td>2011-02-02 16:01:00</td>\n",
       "      <td>2011-02-02 16:01:00</td>\n",
       "      <td>Norway</td>\n",
       "    </tr>\n",
       "  </tbody>\n",
       "</table>\n",
       "</div>"
      ],
      "text/plain": [
       "  CustomerID  TotalSales  AverageSales  PurchaseCount       FirstPurchase  \\\n",
       "0    12346.0    77183.60  77183.600000              1 2011-01-18 10:01:00   \n",
       "1    12347.0     3598.21     23.829205              6 2011-01-26 14:30:00   \n",
       "2    12348.0      904.44     64.602857              3 2011-01-25 10:42:00   \n",
       "3    12349.0     1757.55     24.076027              1 2011-11-21 09:51:00   \n",
       "4    12350.0      334.40     19.670588              1 2011-02-02 16:01:00   \n",
       "\n",
       "         LastPurchase         Country  \n",
       "0 2011-01-18 10:01:00  United Kingdom  \n",
       "1 2011-12-07 15:52:00         Iceland  \n",
       "2 2011-09-25 13:13:00         Finland  \n",
       "3 2011-11-21 09:51:00           Italy  \n",
       "4 2011-02-02 16:01:00          Norway  "
      ]
     },
     "execution_count": 157,
     "metadata": {},
     "output_type": "execute_result"
    }
   ],
   "source": [
    "# Creating customer summary\n",
    "customer_summary = data.groupby('CustomerID').agg(\n",
    "    TotalSales=('TotalPrice', 'sum'),\n",
    "    AverageSales=('TotalPrice', 'mean'),\n",
    "    PurchaseCount=('InvoiceDate', 'nunique'),\n",
    "    FirstPurchase=('InvoiceDate', 'min'),\n",
    "    LastPurchase=('InvoiceDate', 'max'),\n",
    "    Country=('Country', 'first')\n",
    ").reset_index()\n",
    "customer_summary.head()"
   ]
  },
  {
   "cell_type": "code",
   "execution_count": 158,
   "id": "2d566f37",
   "metadata": {},
   "outputs": [],
   "source": [
    "# Saving the transformed data to a CSV file\n",
    "data.to_csv('Data/transformed_data.csv', index=False)"
   ]
  },
  {
   "cell_type": "markdown",
   "id": "b75e40b9",
   "metadata": {},
   "source": [
    "## 3) Loading Data into SQLite Database\n",
    "\n",
    "In this stage, we will load the transformed data into a SQLite database. We will:\n",
    "1. Create a database file (retail_dw.db)\n",
    "2. Create dimension tables (CustomerDim, ProductDim, TimeDim)\n",
    "3. Create a fact table (SalesFact)\n",
    "4. Load the transformed data into these tables"
   ]
  },
  {
   "cell_type": "code",
   "execution_count": 159,
   "id": "6a5c9e5a",
   "metadata": {},
   "outputs": [
    {
     "name": "stdout",
     "output_type": "stream",
     "text": [
      "Loaded transformed data with 483353 rows and 7 columns\n",
      "Data columns: ['Description', 'Quantity', 'InvoiceDate', 'UnitPrice', 'CustomerID', 'Country', 'TotalPrice']\n"
     ]
    },
    {
     "data": {
      "application/vnd.microsoft.datawrangler.viewer.v0+json": {
       "columns": [
        {
         "name": "index",
         "rawType": "int64",
         "type": "integer"
        },
        {
         "name": "Description",
         "rawType": "object",
         "type": "string"
        },
        {
         "name": "Quantity",
         "rawType": "int64",
         "type": "integer"
        },
        {
         "name": "InvoiceDate",
         "rawType": "object",
         "type": "string"
        },
        {
         "name": "UnitPrice",
         "rawType": "float64",
         "type": "float"
        },
        {
         "name": "CustomerID",
         "rawType": "float64",
         "type": "float"
        },
        {
         "name": "Country",
         "rawType": "object",
         "type": "string"
        },
        {
         "name": "TotalPrice",
         "rawType": "float64",
         "type": "float"
        }
       ],
       "ref": "ad3074bb-eebd-41df-9b08-0e05c3023320",
       "rows": [
        [
         "0",
         "JUMBO BAG PINK POLKADOT",
         "10",
         "2011-01-04 10:00:00",
         "1.95",
         "13313.0",
         "United Kingdom",
         "19.5"
        ],
        [
         "1",
         "BLUE POLKADOT WRAP",
         "25",
         "2011-01-04 10:00:00",
         "0.42",
         "13313.0",
         "United Kingdom",
         "10.5"
        ],
        [
         "2",
         "RED RETROSPOT WRAP ",
         "25",
         "2011-01-04 10:00:00",
         "0.42",
         "13313.0",
         "United Kingdom",
         "10.5"
        ],
        [
         "3",
         "RECYCLING BAG RETROSPOT ",
         "5",
         "2011-01-04 10:00:00",
         "2.1",
         "13313.0",
         "United Kingdom",
         "10.5"
        ],
        [
         "4",
         "RED RETROSPOT SHOPPER BAG",
         "10",
         "2011-01-04 10:00:00",
         "1.25",
         "13313.0",
         "United Kingdom",
         "12.5"
        ]
       ],
       "shape": {
        "columns": 7,
        "rows": 5
       }
      },
      "text/html": [
       "<div>\n",
       "<style scoped>\n",
       "    .dataframe tbody tr th:only-of-type {\n",
       "        vertical-align: middle;\n",
       "    }\n",
       "\n",
       "    .dataframe tbody tr th {\n",
       "        vertical-align: top;\n",
       "    }\n",
       "\n",
       "    .dataframe thead th {\n",
       "        text-align: right;\n",
       "    }\n",
       "</style>\n",
       "<table border=\"1\" class=\"dataframe\">\n",
       "  <thead>\n",
       "    <tr style=\"text-align: right;\">\n",
       "      <th></th>\n",
       "      <th>Description</th>\n",
       "      <th>Quantity</th>\n",
       "      <th>InvoiceDate</th>\n",
       "      <th>UnitPrice</th>\n",
       "      <th>CustomerID</th>\n",
       "      <th>Country</th>\n",
       "      <th>TotalPrice</th>\n",
       "    </tr>\n",
       "  </thead>\n",
       "  <tbody>\n",
       "    <tr>\n",
       "      <th>0</th>\n",
       "      <td>JUMBO BAG PINK POLKADOT</td>\n",
       "      <td>10</td>\n",
       "      <td>2011-01-04 10:00:00</td>\n",
       "      <td>1.95</td>\n",
       "      <td>13313.0</td>\n",
       "      <td>United Kingdom</td>\n",
       "      <td>19.5</td>\n",
       "    </tr>\n",
       "    <tr>\n",
       "      <th>1</th>\n",
       "      <td>BLUE POLKADOT WRAP</td>\n",
       "      <td>25</td>\n",
       "      <td>2011-01-04 10:00:00</td>\n",
       "      <td>0.42</td>\n",
       "      <td>13313.0</td>\n",
       "      <td>United Kingdom</td>\n",
       "      <td>10.5</td>\n",
       "    </tr>\n",
       "    <tr>\n",
       "      <th>2</th>\n",
       "      <td>RED RETROSPOT WRAP</td>\n",
       "      <td>25</td>\n",
       "      <td>2011-01-04 10:00:00</td>\n",
       "      <td>0.42</td>\n",
       "      <td>13313.0</td>\n",
       "      <td>United Kingdom</td>\n",
       "      <td>10.5</td>\n",
       "    </tr>\n",
       "    <tr>\n",
       "      <th>3</th>\n",
       "      <td>RECYCLING BAG RETROSPOT</td>\n",
       "      <td>5</td>\n",
       "      <td>2011-01-04 10:00:00</td>\n",
       "      <td>2.10</td>\n",
       "      <td>13313.0</td>\n",
       "      <td>United Kingdom</td>\n",
       "      <td>10.5</td>\n",
       "    </tr>\n",
       "    <tr>\n",
       "      <th>4</th>\n",
       "      <td>RED RETROSPOT SHOPPER BAG</td>\n",
       "      <td>10</td>\n",
       "      <td>2011-01-04 10:00:00</td>\n",
       "      <td>1.25</td>\n",
       "      <td>13313.0</td>\n",
       "      <td>United Kingdom</td>\n",
       "      <td>12.5</td>\n",
       "    </tr>\n",
       "  </tbody>\n",
       "</table>\n",
       "</div>"
      ],
      "text/plain": [
       "                 Description  Quantity          InvoiceDate  UnitPrice  \\\n",
       "0    JUMBO BAG PINK POLKADOT        10  2011-01-04 10:00:00       1.95   \n",
       "1         BLUE POLKADOT WRAP        25  2011-01-04 10:00:00       0.42   \n",
       "2        RED RETROSPOT WRAP         25  2011-01-04 10:00:00       0.42   \n",
       "3   RECYCLING BAG RETROSPOT          5  2011-01-04 10:00:00       2.10   \n",
       "4  RED RETROSPOT SHOPPER BAG        10  2011-01-04 10:00:00       1.25   \n",
       "\n",
       "   CustomerID         Country  TotalPrice  \n",
       "0     13313.0  United Kingdom        19.5  \n",
       "1     13313.0  United Kingdom        10.5  \n",
       "2     13313.0  United Kingdom        10.5  \n",
       "3     13313.0  United Kingdom        10.5  \n",
       "4     13313.0  United Kingdom        12.5  "
      ]
     },
     "execution_count": 159,
     "metadata": {},
     "output_type": "execute_result"
    }
   ],
   "source": [
    "# Import necessary libraries\n",
    "import sqlite3\n",
    "import pandas as pd\n",
    "import os\n",
    "\n",
    "# Load the transformed data\n",
    "data_path = os.path.join('Data', 'transformed_data.csv')\n",
    "df = pd.read_csv(data_path)\n",
    "\n",
    "print(f\"Loaded transformed data with {df.shape[0]} rows and {df.shape[1]} columns\")\n",
    "print(\"Data columns:\", df.columns.tolist())\n",
    "df.head()"
   ]
  },
  {
   "cell_type": "code",
   "execution_count": 160,
   "id": "e3595b0c",
   "metadata": {},
   "outputs": [],
   "source": [
    "def connect_to_db():\n",
    "    \"\"\"Connect to the SQLite database\"\"\"\n",
    "    conn = sqlite3.connect('Retail_dw.db')\n",
    "    cursor = conn.cursor()\n",
    "    conn.execute('PRAGMA foreign_keys = ON;')  # Enable foreign key constraints\n",
    "    print(\"Connected to SQLite database.\")\n",
    "    return conn\n"
   ]
  },
  {
   "cell_type": "code",
   "execution_count": 161,
   "id": "e98c1c4e",
   "metadata": {},
   "outputs": [
    {
     "name": "stdout",
     "output_type": "stream",
     "text": [
      "Data populated successfully!\n"
     ]
    }
   ],
   "source": [
    "def populate_tables():\n",
    "    \"\"\"Populate tables from CSV\"\"\"\n",
    "    conn = connect_to_db()\n",
    "    cursor = conn.cursor()\n",
    "\n",
    "    for _, row in df.iterrows():\n",
    "        # Parse date\n",
    "        try:\n",
    "            invoice_date = datetime.strptime(row[\"InvoiceDate\"], \"%Y-%m-%d %H:%M:%S\")\n",
    "        except ValueError:\n",
    "            try:\n",
    "                invoice_date = datetime.strptime(row[\"InvoiceDate\"], \"%m/%d/%Y %H:%M\")\n",
    "            except:\n",
    "                continue  # Skip invalid dates\n",
    "\n",
    "        day = invoice_date.day\n",
    "        month = invoice_date.month\n",
    "        quarter = (month - 1) // 3 + 1\n",
    "        year = invoice_date.year\n",
    "        full_date_desc = invoice_date.strftime(\"%A, %B %d, %Y\")\n",
    "\n",
    "        # Insert into Time_TB\n",
    "        cursor.execute('''\n",
    "        INSERT OR IGNORE INTO Time_TB (TimeID, Date, FullDateDescription, Day, Month, Quarter, Year)\n",
    "        VALUES (?, ?, ?, ?, ?, ?, ?)\n",
    "        ''', (\n",
    "            int(invoice_date.strftime(\"%Y%m%d\")),  # TimeID\n",
    "            invoice_date.date().isoformat(),\n",
    "            full_date_desc,\n",
    "            day, month, quarter, year\n",
    "        ))\n",
    "        time_id = int(invoice_date.strftime(\"%Y%m%d\"))\n",
    "\n",
    "        # Insert into Product_TB\n",
    "        cursor.execute('''\n",
    "        INSERT OR IGNORE INTO Product_TB (ProductID, StockCode, ProductName, ProductCategory, ProductSubcategory, Brand)\n",
    "        VALUES (?, ?, ?, ?, ?, ?)\n",
    "        ''', (\n",
    "            row[\"StockCode\"],\n",
    "            row[\"StockCode\"],\n",
    "            row[\"Description\"],\n",
    "            None,  # ProductCategory unknown\n",
    "            None,  # ProductSubcategory unknown\n",
    "            None   # Brand unknown\n",
    "        ))\n",
    "        product_id = row[\"StockCode\"]\n",
    "\n",
    "        # Insert into Customer_TB\n",
    "        cursor.execute('''\n",
    "        INSERT OR IGNORE INTO Customer_TB (CustomerID, CustomerName, City, State, Country, AgeGroup)\n",
    "        VALUES (?, ?, ?, ?, ?, ?)\n",
    "        ''', (\n",
    "            row[\"CustomerID\"],\n",
    "            None,  # CustomerName unknown\n",
    "            None,  # City unknown\n",
    "            None,  # State unknown\n",
    "            row[\"Country\"],\n",
    "            None   # AgeGroup unknown\n",
    "        ))\n",
    "        customer_id = row[\"CustomerID\"]\n",
    "\n",
    "        # Store_TB — leaving empty since no store data in CSV\n",
    "        store_id = None\n",
    "\n",
    "        # Insert into FactSales_TB\n",
    "        cursor.execute('''\n",
    "        INSERT INTO FactSales_TB (TimeID, ProductID, CustomerID, StoreID, SalesAmount, QuantitySold, DiscountAmount)\n",
    "        VALUES (?, ?, ?, ?, ?, ?, ?)\n",
    "        ''', (\n",
    "            time_id,\n",
    "            product_id,\n",
    "            customer_id,\n",
    "            store_id,\n",
    "            row[\"Quantity\"] * row[\"UnitPrice\"],  # SalesAmount\n",
    "            row[\"Quantity\"],\n",
    "            0  # Discount unknown\n",
    "        ))\n",
    "\n",
    "    conn.commit()\n",
    "    conn.close()\n",
    "print(\"Data populated successfully!\")"
   ]
  }
 ],
 "metadata": {
  "kernelspec": {
   "display_name": "Python 3",
   "language": "python",
   "name": "python3"
  },
  "language_info": {
   "codemirror_mode": {
    "name": "ipython",
    "version": 3
   },
   "file_extension": ".py",
   "mimetype": "text/x-python",
   "name": "python",
   "nbconvert_exporter": "python",
   "pygments_lexer": "ipython3",
   "version": "3.13.5"
  }
 },
 "nbformat": 4,
 "nbformat_minor": 5
}
