{
 "cells": [
  {
   "cell_type": "markdown",
   "id": "f1bfbf62",
   "metadata": {},
   "source": [
    "# Data Warehouse Design\n",
    "This notebook will outline the design of the data warehouse, including the star schema, fact and dimension tables."
   ]
  },
  {
   "cell_type": "code",
   "execution_count": 1,
   "id": "efe11f5d",
   "metadata": {},
   "outputs": [],
   "source": [
    "# Importing files\n",
    "import sqlite3\n",
    "import os\n",
    "import pandas as pd\n",
    "import matplotlib.pyplot as plt\n",
    "\n",
    "# Path to the database file\n",
    "db_path = \"DWHS.db\""
   ]
  },
  {
   "cell_type": "markdown",
   "id": "e6e7bc58",
   "metadata": {},
   "source": [
    "## Creating Dimension Tables"
   ]
  },
  {
   "cell_type": "code",
   "execution_count": 2,
   "id": "c75ae52d",
   "metadata": {},
   "outputs": [],
   "source": [
    "def connect_to_db():\n",
    "    \"\"\"Connect to the SQLite database\"\"\"\n",
    "    conn = sqlite3.connect(db_path)\n",
    "    print(f\"Connected to database: {db_path}\")\n",
    "    return conn\n",
    "\n",
    "def execute_query(query, params=None, fetch=True, commit=False):\n",
    "    \"\"\"Execute a query and optionally return results\"\"\"\n",
    "    conn = connect_to_db()\n",
    "    \n",
    "    try:\n",
    "        cursor = conn.cursor()\n",
    "        if params:\n",
    "            cursor.execute(query, params)\n",
    "        else:\n",
    "            cursor.execute(query)\n",
    "            \n",
    "        if commit:\n",
    "            conn.commit()\n",
    "            \n",
    "        if fetch and cursor.description:\n",
    "            results = cursor.fetchall()\n",
    "            column_names = [description[0] for description in cursor.description]\n",
    "            return results, column_names\n",
    "    finally:\n",
    "        conn.close()\n",
    "        \n",
    "    return None, None\n",
    "\n",
    "def create_database_schema():\n",
    "    \"\"\"Create the database tables according to the schema\"\"\"\n",
    "    conn = connect_to_db()\n",
    "    cursor = conn.cursor()\n",
    "    \n",
    "    try:\n",
    "        # Time Dimension Table\n",
    "        cursor.execute('''\n",
    "        CREATE TABLE IF NOT EXISTS Time_TB (\n",
    "            TimeID INTEGER PRIMARY KEY,\n",
    "            Date TEXT,\n",
    "            FullDateDescription TEXT,\n",
    "            Day INTEGER,\n",
    "            Month INTEGER,\n",
    "            Quarter INTEGER,\n",
    "            Year INTEGER\n",
    "        )\n",
    "        ''')\n",
    "        \n",
    "        # Product Dimension Table\n",
    "        cursor.execute('''\n",
    "        CREATE TABLE IF NOT EXISTS Product_TB (\n",
    "            ProductID TEXT PRIMARY KEY,\n",
    "            ProductName TEXT\n",
    "        )\n",
    "        ''')\n",
    "        \n",
    "        # Customer Dimension Table\n",
    "        cursor.execute('''\n",
    "        CREATE TABLE IF NOT EXISTS Customer_TB (\n",
    "            CustomerID TEXT PRIMARY KEY,\n",
    "            Country TEXT\n",
    "        )\n",
    "        ''')\n",
    "        \n",
    "        # Store Dimension Table\n",
    "        cursor.execute('''\n",
    "        CREATE TABLE IF NOT EXISTS Store_TB (\n",
    "            StoreID INTEGER PRIMARY KEY,\n",
    "            StoreName TEXT,\n",
    "            StoreCity TEXT,\n",
    "            StoreRegion TEXT\n",
    "        )\n",
    "        ''')\n",
    "        \n",
    "        # Fact Sales Table\n",
    "        cursor.execute('''\n",
    "        CREATE TABLE IF NOT EXISTS FactSales_TB (\n",
    "            SaleID INTEGER PRIMARY KEY AUTOINCREMENT,\n",
    "            TimeID INTEGER,\n",
    "            ProductID INTEGER,\n",
    "            CustomerID INTEGER,\n",
    "            StoreID INTEGER,\n",
    "            SalesAmount REAL,\n",
    "            QuantitySold INTEGER,\n",
    "            DiscountAmount REAL,\n",
    "            FOREIGN KEY (TimeID) REFERENCES Time_TB (TimeID),\n",
    "            FOREIGN KEY (ProductID) REFERENCES Product_TB (ProductID),\n",
    "            FOREIGN KEY (CustomerID) REFERENCES Customer_TB (CustomerID),\n",
    "            FOREIGN KEY (StoreID) REFERENCES Store_TB (StoreID)\n",
    "        )\n",
    "        ''')\n",
    "        \n",
    "        conn.commit()\n",
    "        print(\"Database schema created successfully!\")\n",
    "        \n",
    "    except sqlite3.Error as e:\n",
    "        print(f\"Error creating database schema: {e}\")\n",
    "    finally:\n",
    "        conn.close()"
   ]
  },
  {
   "cell_type": "markdown",
   "id": "e06b43d4",
   "metadata": {},
   "source": [
    "## Check the tables \n"
   ]
  },
  {
   "cell_type": "code",
   "execution_count": 3,
   "id": "80f15ef1",
   "metadata": {},
   "outputs": [
    {
     "name": "stdout",
     "output_type": "stream",
     "text": [
      "              name\n",
      "0          Time_TB\n",
      "1       Product_TB\n",
      "2      Customer_TB\n",
      "3         Store_TB\n",
      "4     FactSales_TB\n",
      "5  sqlite_sequence\n"
     ]
    }
   ],
   "source": [
    "conn = sqlite3.connect(\"Retail_dw.db\")\n",
    "tables = pd.read_sql_query(\n",
    "    \"SELECT name FROM sqlite_master WHERE type='table';\", \n",
    "    conn\n",
    ")\n",
    "print(tables)\n",
    "conn.close()"
   ]
  }
 ],
 "metadata": {
  "kernelspec": {
   "display_name": "Python 3",
   "language": "python",
   "name": "python3"
  },
  "language_info": {
   "codemirror_mode": {
    "name": "ipython",
    "version": 3
   },
   "file_extension": ".py",
   "mimetype": "text/x-python",
   "name": "python",
   "nbconvert_exporter": "python",
   "pygments_lexer": "ipython3",
   "version": "3.13.5"
  }
 },
 "nbformat": 4,
 "nbformat_minor": 5
}
