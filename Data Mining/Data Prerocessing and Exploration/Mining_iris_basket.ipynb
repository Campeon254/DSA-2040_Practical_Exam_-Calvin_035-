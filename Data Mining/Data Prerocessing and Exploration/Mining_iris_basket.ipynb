{
 "cells": [
  {
   "cell_type": "markdown",
   "id": "9880d5b0",
   "metadata": {},
   "source": [
    "# Association Rule Mining\n",
    "- Generate synthetic transactional data (e.g., 20-50 transactions, each a list of 3-8 items from a pool of 20 items like ['milk', 'bread', 'beer', 'diapers', 'eggs', etc.]; use random.choices to create baskets with patterns, like frequent co-occurrences). Use Python lists or\n",
    "pandas. Include generation code.\n",
    "2. Analyze: Discuss one rule's implications (e.g., for retail recommendations)."
   ]
  },
  {
   "cell_type": "code",
   "execution_count": 15,
   "id": "a4915c7b",
   "metadata": {},
   "outputs": [
    {
     "data": {
      "application/vnd.microsoft.datawrangler.viewer.v0+json": {
       "columns": [
        {
         "name": "index",
         "rawType": "int64",
         "type": "integer"
        },
        {
         "name": "Transaction",
         "rawType": "int64",
         "type": "integer"
        },
        {
         "name": "Items",
         "rawType": "object",
         "type": "unknown"
        }
       ],
       "ref": "a5307ba0-3885-494e-94af-5ca88ec7bc2f",
       "rows": [
        [
         "0",
         "1",
         "['fruit', 'eggs', 'milk']"
        ],
        [
         "1",
         "2",
         "['milk', 'bread', 'detergent', 'beer', 'eggs', 'toilet paper', 'pasta', 'meat']"
        ],
        [
         "2",
         "3",
         "['milk', 'beans', 'detergent', 'diapers', 'eggs', 'toilet paper', 'meat']"
        ],
        [
         "3",
         "4",
         "['vegetables', 'diapers', 'coffee', 'fish']"
        ],
        [
         "4",
         "5",
         "['fruit', 'vegetables', 'beer', 'snacks']"
        ]
       ],
       "shape": {
        "columns": 2,
        "rows": 5
       }
      },
      "text/html": [
       "<div>\n",
       "<style scoped>\n",
       "    .dataframe tbody tr th:only-of-type {\n",
       "        vertical-align: middle;\n",
       "    }\n",
       "\n",
       "    .dataframe tbody tr th {\n",
       "        vertical-align: top;\n",
       "    }\n",
       "\n",
       "    .dataframe thead th {\n",
       "        text-align: right;\n",
       "    }\n",
       "</style>\n",
       "<table border=\"1\" class=\"dataframe\">\n",
       "  <thead>\n",
       "    <tr style=\"text-align: right;\">\n",
       "      <th></th>\n",
       "      <th>Transaction</th>\n",
       "      <th>Items</th>\n",
       "    </tr>\n",
       "  </thead>\n",
       "  <tbody>\n",
       "    <tr>\n",
       "      <th>0</th>\n",
       "      <td>1</td>\n",
       "      <td>[fruit, eggs, milk]</td>\n",
       "    </tr>\n",
       "    <tr>\n",
       "      <th>1</th>\n",
       "      <td>2</td>\n",
       "      <td>[milk, bread, detergent, beer, eggs, toilet pa...</td>\n",
       "    </tr>\n",
       "    <tr>\n",
       "      <th>2</th>\n",
       "      <td>3</td>\n",
       "      <td>[milk, beans, detergent, diapers, eggs, toilet...</td>\n",
       "    </tr>\n",
       "    <tr>\n",
       "      <th>3</th>\n",
       "      <td>4</td>\n",
       "      <td>[vegetables, diapers, coffee, fish]</td>\n",
       "    </tr>\n",
       "    <tr>\n",
       "      <th>4</th>\n",
       "      <td>5</td>\n",
       "      <td>[fruit, vegetables, beer, snacks]</td>\n",
       "    </tr>\n",
       "  </tbody>\n",
       "</table>\n",
       "</div>"
      ],
      "text/plain": [
       "   Transaction                                              Items\n",
       "0            1                                [fruit, eggs, milk]\n",
       "1            2  [milk, bread, detergent, beer, eggs, toilet pa...\n",
       "2            3  [milk, beans, detergent, diapers, eggs, toilet...\n",
       "3            4                [vegetables, diapers, coffee, fish]\n",
       "4            5                  [fruit, vegetables, beer, snacks]"
      ]
     },
     "execution_count": 15,
     "metadata": {},
     "output_type": "execute_result"
    }
   ],
   "source": [
    "# Import libraries\n",
    "import pandas as pd\n",
    "import random\n",
    "from mlxtend.frequent_patterns import apriori, association_rules\n",
    "import warnings\n",
    "warnings.filterwarnings(\"ignore\")\n",
    "\n",
    "# Generate Synthetic transaction data\n",
    "random.seed(42)\n",
    "num_transactions = random.randint(20, 50)\n",
    "item_pool = ['milk', 'bread', 'beer', 'diapers', 'eggs', 'fruit', 'vegetables', 'snacks', 'cereal', 'juice',\n",
    "            'toilet paper', 'detergent', 'meat', 'fish', 'pasta', 'rice', 'beans', 'soda', 'water', 'coffee']\n",
    "transactions = []\n",
    "\n",
    "for _ in range(num_transactions):\n",
    "    basket_size = random.randint(3, 8)\n",
    "    basket = random.choices(item_pool, k=basket_size)\n",
    "    # remove duplicates\n",
    "    transactions.append(list(set(basket)))\n",
    "\n",
    "# Convert to DataFrame\n",
    "df = pd.DataFrame({'Transaction': range(1, num_transactions + 1),\n",
    "                'Items': transactions})\n",
    "df.head()"
   ]
  },
  {
   "cell_type": "markdown",
   "id": "169ad061",
   "metadata": {},
   "source": [
    "Prepare Data for Mining - One-Hot Encoding"
   ]
  },
  {
   "cell_type": "code",
   "execution_count": 16,
   "id": "71ff0713",
   "metadata": {},
   "outputs": [],
   "source": [
    "# Convert to One-Hot Encoding\n",
    "all_items = sorted(set(item for sublist in transactions for item in sublist))\n",
    "encoded_df = pd.DataFrame(0, index=range(len(transactions)), columns=all_items)\n",
    "\n",
    "for idx, basket in enumerate(transactions):\n",
    "    for item in basket:\n",
    "        encoded_df.loc[idx, item] = 1"
   ]
  },
  {
   "cell_type": "markdown",
   "id": "066afe76",
   "metadata": {},
   "source": [
    "Apply Apriori Algorithm to find most frequent itemsets"
   ]
  },
  {
   "cell_type": "code",
   "execution_count": 17,
   "id": "1e532875",
   "metadata": {},
   "outputs": [
    {
     "data": {
      "application/vnd.microsoft.datawrangler.viewer.v0+json": {
       "columns": [
        {
         "name": "index",
         "rawType": "int64",
         "type": "integer"
        },
        {
         "name": "support",
         "rawType": "float64",
         "type": "float"
        },
        {
         "name": "itemsets",
         "rawType": "object",
         "type": "unknown"
        }
       ],
       "ref": "d979eb61-eb39-48fe-95c5-e8298d142419",
       "rows": [
        [
         "0",
         "0.175",
         "frozenset({'beans'})"
        ],
        [
         "1",
         "0.125",
         "frozenset({'beer'})"
        ],
        [
         "2",
         "0.35",
         "frozenset({'bread'})"
        ],
        [
         "3",
         "0.125",
         "frozenset({'cereal'})"
        ],
        [
         "4",
         "0.175",
         "frozenset({'coffee'})"
        ],
        [
         "5",
         "0.2",
         "frozenset({'detergent'})"
        ],
        [
         "6",
         "0.3",
         "frozenset({'diapers'})"
        ],
        [
         "7",
         "0.35",
         "frozenset({'eggs'})"
        ],
        [
         "8",
         "0.25",
         "frozenset({'fish'})"
        ],
        [
         "9",
         "0.3",
         "frozenset({'fruit'})"
        ],
        [
         "10",
         "0.25",
         "frozenset({'juice'})"
        ],
        [
         "11",
         "0.2",
         "frozenset({'meat'})"
        ],
        [
         "12",
         "0.225",
         "frozenset({'milk'})"
        ],
        [
         "13",
         "0.2",
         "frozenset({'pasta'})"
        ],
        [
         "14",
         "0.1",
         "frozenset({'rice'})"
        ],
        [
         "15",
         "0.25",
         "frozenset({'snacks'})"
        ],
        [
         "16",
         "0.325",
         "frozenset({'soda'})"
        ],
        [
         "17",
         "0.275",
         "frozenset({'toilet paper'})"
        ],
        [
         "18",
         "0.175",
         "frozenset({'vegetables'})"
        ],
        [
         "19",
         "0.275",
         "frozenset({'water'})"
        ],
        [
         "20",
         "0.1",
         "frozenset({'bread', 'beans'})"
        ],
        [
         "21",
         "0.1",
         "frozenset({'bread', 'eggs'})"
        ],
        [
         "22",
         "0.1",
         "frozenset({'juice', 'bread'})"
        ],
        [
         "23",
         "0.1",
         "frozenset({'bread', 'meat'})"
        ],
        [
         "24",
         "0.1",
         "frozenset({'bread', 'milk'})"
        ],
        [
         "25",
         "0.15",
         "frozenset({'soda', 'bread'})"
        ],
        [
         "26",
         "0.1",
         "frozenset({'bread', 'toilet paper'})"
        ],
        [
         "27",
         "0.1",
         "frozenset({'water', 'bread'})"
        ],
        [
         "28",
         "0.1",
         "frozenset({'coffee', 'toilet paper'})"
        ],
        [
         "29",
         "0.125",
         "frozenset({'detergent', 'eggs'})"
        ],
        [
         "30",
         "0.1",
         "frozenset({'detergent', 'toilet paper'})"
        ],
        [
         "31",
         "0.1",
         "frozenset({'diapers', 'fruit'})"
        ],
        [
         "32",
         "0.1",
         "frozenset({'diapers', 'meat'})"
        ],
        [
         "33",
         "0.1",
         "frozenset({'diapers', 'snacks'})"
        ],
        [
         "34",
         "0.1",
         "frozenset({'soda', 'diapers'})"
        ],
        [
         "35",
         "0.125",
         "frozenset({'water', 'diapers'})"
        ],
        [
         "36",
         "0.1",
         "frozenset({'fish', 'eggs'})"
        ],
        [
         "37",
         "0.1",
         "frozenset({'eggs', 'fruit'})"
        ],
        [
         "38",
         "0.1",
         "frozenset({'eggs', 'meat'})"
        ],
        [
         "39",
         "0.125",
         "frozenset({'eggs', 'milk'})"
        ],
        [
         "40",
         "0.125",
         "frozenset({'toilet paper', 'eggs'})"
        ],
        [
         "41",
         "0.1",
         "frozenset({'fish', 'fruit'})"
        ],
        [
         "42",
         "0.125",
         "frozenset({'juice', 'fish'})"
        ],
        [
         "43",
         "0.1",
         "frozenset({'soda', 'fish'})"
        ],
        [
         "44",
         "0.1",
         "frozenset({'juice', 'fruit'})"
        ],
        [
         "45",
         "0.1",
         "frozenset({'meat', 'fruit'})"
        ],
        [
         "46",
         "0.125",
         "frozenset({'snacks', 'fruit'})"
        ],
        [
         "47",
         "0.1",
         "frozenset({'water', 'fruit'})"
        ],
        [
         "48",
         "0.1",
         "frozenset({'juice', 'snacks'})"
        ],
        [
         "49",
         "0.15",
         "frozenset({'juice', 'soda'})"
        ]
       ],
       "shape": {
        "columns": 2,
        "rows": 59
       }
      },
      "text/html": [
       "<div>\n",
       "<style scoped>\n",
       "    .dataframe tbody tr th:only-of-type {\n",
       "        vertical-align: middle;\n",
       "    }\n",
       "\n",
       "    .dataframe tbody tr th {\n",
       "        vertical-align: top;\n",
       "    }\n",
       "\n",
       "    .dataframe thead th {\n",
       "        text-align: right;\n",
       "    }\n",
       "</style>\n",
       "<table border=\"1\" class=\"dataframe\">\n",
       "  <thead>\n",
       "    <tr style=\"text-align: right;\">\n",
       "      <th></th>\n",
       "      <th>support</th>\n",
       "      <th>itemsets</th>\n",
       "    </tr>\n",
       "  </thead>\n",
       "  <tbody>\n",
       "    <tr>\n",
       "      <th>0</th>\n",
       "      <td>0.175</td>\n",
       "      <td>(beans)</td>\n",
       "    </tr>\n",
       "    <tr>\n",
       "      <th>1</th>\n",
       "      <td>0.125</td>\n",
       "      <td>(beer)</td>\n",
       "    </tr>\n",
       "    <tr>\n",
       "      <th>2</th>\n",
       "      <td>0.350</td>\n",
       "      <td>(bread)</td>\n",
       "    </tr>\n",
       "    <tr>\n",
       "      <th>3</th>\n",
       "      <td>0.125</td>\n",
       "      <td>(cereal)</td>\n",
       "    </tr>\n",
       "    <tr>\n",
       "      <th>4</th>\n",
       "      <td>0.175</td>\n",
       "      <td>(coffee)</td>\n",
       "    </tr>\n",
       "    <tr>\n",
       "      <th>5</th>\n",
       "      <td>0.200</td>\n",
       "      <td>(detergent)</td>\n",
       "    </tr>\n",
       "    <tr>\n",
       "      <th>6</th>\n",
       "      <td>0.300</td>\n",
       "      <td>(diapers)</td>\n",
       "    </tr>\n",
       "    <tr>\n",
       "      <th>7</th>\n",
       "      <td>0.350</td>\n",
       "      <td>(eggs)</td>\n",
       "    </tr>\n",
       "    <tr>\n",
       "      <th>8</th>\n",
       "      <td>0.250</td>\n",
       "      <td>(fish)</td>\n",
       "    </tr>\n",
       "    <tr>\n",
       "      <th>9</th>\n",
       "      <td>0.300</td>\n",
       "      <td>(fruit)</td>\n",
       "    </tr>\n",
       "    <tr>\n",
       "      <th>10</th>\n",
       "      <td>0.250</td>\n",
       "      <td>(juice)</td>\n",
       "    </tr>\n",
       "    <tr>\n",
       "      <th>11</th>\n",
       "      <td>0.200</td>\n",
       "      <td>(meat)</td>\n",
       "    </tr>\n",
       "    <tr>\n",
       "      <th>12</th>\n",
       "      <td>0.225</td>\n",
       "      <td>(milk)</td>\n",
       "    </tr>\n",
       "    <tr>\n",
       "      <th>13</th>\n",
       "      <td>0.200</td>\n",
       "      <td>(pasta)</td>\n",
       "    </tr>\n",
       "    <tr>\n",
       "      <th>14</th>\n",
       "      <td>0.100</td>\n",
       "      <td>(rice)</td>\n",
       "    </tr>\n",
       "    <tr>\n",
       "      <th>15</th>\n",
       "      <td>0.250</td>\n",
       "      <td>(snacks)</td>\n",
       "    </tr>\n",
       "    <tr>\n",
       "      <th>16</th>\n",
       "      <td>0.325</td>\n",
       "      <td>(soda)</td>\n",
       "    </tr>\n",
       "    <tr>\n",
       "      <th>17</th>\n",
       "      <td>0.275</td>\n",
       "      <td>(toilet paper)</td>\n",
       "    </tr>\n",
       "    <tr>\n",
       "      <th>18</th>\n",
       "      <td>0.175</td>\n",
       "      <td>(vegetables)</td>\n",
       "    </tr>\n",
       "    <tr>\n",
       "      <th>19</th>\n",
       "      <td>0.275</td>\n",
       "      <td>(water)</td>\n",
       "    </tr>\n",
       "    <tr>\n",
       "      <th>20</th>\n",
       "      <td>0.100</td>\n",
       "      <td>(bread, beans)</td>\n",
       "    </tr>\n",
       "    <tr>\n",
       "      <th>21</th>\n",
       "      <td>0.100</td>\n",
       "      <td>(bread, eggs)</td>\n",
       "    </tr>\n",
       "    <tr>\n",
       "      <th>22</th>\n",
       "      <td>0.100</td>\n",
       "      <td>(juice, bread)</td>\n",
       "    </tr>\n",
       "    <tr>\n",
       "      <th>23</th>\n",
       "      <td>0.100</td>\n",
       "      <td>(bread, meat)</td>\n",
       "    </tr>\n",
       "    <tr>\n",
       "      <th>24</th>\n",
       "      <td>0.100</td>\n",
       "      <td>(bread, milk)</td>\n",
       "    </tr>\n",
       "    <tr>\n",
       "      <th>25</th>\n",
       "      <td>0.150</td>\n",
       "      <td>(soda, bread)</td>\n",
       "    </tr>\n",
       "    <tr>\n",
       "      <th>26</th>\n",
       "      <td>0.100</td>\n",
       "      <td>(bread, toilet paper)</td>\n",
       "    </tr>\n",
       "    <tr>\n",
       "      <th>27</th>\n",
       "      <td>0.100</td>\n",
       "      <td>(water, bread)</td>\n",
       "    </tr>\n",
       "    <tr>\n",
       "      <th>28</th>\n",
       "      <td>0.100</td>\n",
       "      <td>(coffee, toilet paper)</td>\n",
       "    </tr>\n",
       "    <tr>\n",
       "      <th>29</th>\n",
       "      <td>0.125</td>\n",
       "      <td>(detergent, eggs)</td>\n",
       "    </tr>\n",
       "    <tr>\n",
       "      <th>30</th>\n",
       "      <td>0.100</td>\n",
       "      <td>(detergent, toilet paper)</td>\n",
       "    </tr>\n",
       "    <tr>\n",
       "      <th>31</th>\n",
       "      <td>0.100</td>\n",
       "      <td>(diapers, fruit)</td>\n",
       "    </tr>\n",
       "    <tr>\n",
       "      <th>32</th>\n",
       "      <td>0.100</td>\n",
       "      <td>(diapers, meat)</td>\n",
       "    </tr>\n",
       "    <tr>\n",
       "      <th>33</th>\n",
       "      <td>0.100</td>\n",
       "      <td>(diapers, snacks)</td>\n",
       "    </tr>\n",
       "    <tr>\n",
       "      <th>34</th>\n",
       "      <td>0.100</td>\n",
       "      <td>(soda, diapers)</td>\n",
       "    </tr>\n",
       "    <tr>\n",
       "      <th>35</th>\n",
       "      <td>0.125</td>\n",
       "      <td>(water, diapers)</td>\n",
       "    </tr>\n",
       "    <tr>\n",
       "      <th>36</th>\n",
       "      <td>0.100</td>\n",
       "      <td>(fish, eggs)</td>\n",
       "    </tr>\n",
       "    <tr>\n",
       "      <th>37</th>\n",
       "      <td>0.100</td>\n",
       "      <td>(eggs, fruit)</td>\n",
       "    </tr>\n",
       "    <tr>\n",
       "      <th>38</th>\n",
       "      <td>0.100</td>\n",
       "      <td>(eggs, meat)</td>\n",
       "    </tr>\n",
       "    <tr>\n",
       "      <th>39</th>\n",
       "      <td>0.125</td>\n",
       "      <td>(eggs, milk)</td>\n",
       "    </tr>\n",
       "    <tr>\n",
       "      <th>40</th>\n",
       "      <td>0.125</td>\n",
       "      <td>(toilet paper, eggs)</td>\n",
       "    </tr>\n",
       "    <tr>\n",
       "      <th>41</th>\n",
       "      <td>0.100</td>\n",
       "      <td>(fish, fruit)</td>\n",
       "    </tr>\n",
       "    <tr>\n",
       "      <th>42</th>\n",
       "      <td>0.125</td>\n",
       "      <td>(juice, fish)</td>\n",
       "    </tr>\n",
       "    <tr>\n",
       "      <th>43</th>\n",
       "      <td>0.100</td>\n",
       "      <td>(soda, fish)</td>\n",
       "    </tr>\n",
       "    <tr>\n",
       "      <th>44</th>\n",
       "      <td>0.100</td>\n",
       "      <td>(juice, fruit)</td>\n",
       "    </tr>\n",
       "    <tr>\n",
       "      <th>45</th>\n",
       "      <td>0.100</td>\n",
       "      <td>(meat, fruit)</td>\n",
       "    </tr>\n",
       "    <tr>\n",
       "      <th>46</th>\n",
       "      <td>0.125</td>\n",
       "      <td>(snacks, fruit)</td>\n",
       "    </tr>\n",
       "    <tr>\n",
       "      <th>47</th>\n",
       "      <td>0.100</td>\n",
       "      <td>(water, fruit)</td>\n",
       "    </tr>\n",
       "    <tr>\n",
       "      <th>48</th>\n",
       "      <td>0.100</td>\n",
       "      <td>(juice, snacks)</td>\n",
       "    </tr>\n",
       "    <tr>\n",
       "      <th>49</th>\n",
       "      <td>0.150</td>\n",
       "      <td>(juice, soda)</td>\n",
       "    </tr>\n",
       "    <tr>\n",
       "      <th>50</th>\n",
       "      <td>0.125</td>\n",
       "      <td>(water, juice)</td>\n",
       "    </tr>\n",
       "    <tr>\n",
       "      <th>51</th>\n",
       "      <td>0.125</td>\n",
       "      <td>(toilet paper, meat)</td>\n",
       "    </tr>\n",
       "    <tr>\n",
       "      <th>52</th>\n",
       "      <td>0.100</td>\n",
       "      <td>(water, meat)</td>\n",
       "    </tr>\n",
       "    <tr>\n",
       "      <th>53</th>\n",
       "      <td>0.100</td>\n",
       "      <td>(toilet paper, pasta)</td>\n",
       "    </tr>\n",
       "    <tr>\n",
       "      <th>54</th>\n",
       "      <td>0.125</td>\n",
       "      <td>(soda, snacks)</td>\n",
       "    </tr>\n",
       "    <tr>\n",
       "      <th>55</th>\n",
       "      <td>0.100</td>\n",
       "      <td>(water, snacks)</td>\n",
       "    </tr>\n",
       "    <tr>\n",
       "      <th>56</th>\n",
       "      <td>0.125</td>\n",
       "      <td>(water, soda)</td>\n",
       "    </tr>\n",
       "    <tr>\n",
       "      <th>57</th>\n",
       "      <td>0.100</td>\n",
       "      <td>(water, toilet paper)</td>\n",
       "    </tr>\n",
       "    <tr>\n",
       "      <th>58</th>\n",
       "      <td>0.100</td>\n",
       "      <td>(juice, fish, fruit)</td>\n",
       "    </tr>\n",
       "  </tbody>\n",
       "</table>\n",
       "</div>"
      ],
      "text/plain": [
       "    support                   itemsets\n",
       "0     0.175                    (beans)\n",
       "1     0.125                     (beer)\n",
       "2     0.350                    (bread)\n",
       "3     0.125                   (cereal)\n",
       "4     0.175                   (coffee)\n",
       "5     0.200                (detergent)\n",
       "6     0.300                  (diapers)\n",
       "7     0.350                     (eggs)\n",
       "8     0.250                     (fish)\n",
       "9     0.300                    (fruit)\n",
       "10    0.250                    (juice)\n",
       "11    0.200                     (meat)\n",
       "12    0.225                     (milk)\n",
       "13    0.200                    (pasta)\n",
       "14    0.100                     (rice)\n",
       "15    0.250                   (snacks)\n",
       "16    0.325                     (soda)\n",
       "17    0.275             (toilet paper)\n",
       "18    0.175               (vegetables)\n",
       "19    0.275                    (water)\n",
       "20    0.100             (bread, beans)\n",
       "21    0.100              (bread, eggs)\n",
       "22    0.100             (juice, bread)\n",
       "23    0.100              (bread, meat)\n",
       "24    0.100              (bread, milk)\n",
       "25    0.150              (soda, bread)\n",
       "26    0.100      (bread, toilet paper)\n",
       "27    0.100             (water, bread)\n",
       "28    0.100     (coffee, toilet paper)\n",
       "29    0.125          (detergent, eggs)\n",
       "30    0.100  (detergent, toilet paper)\n",
       "31    0.100           (diapers, fruit)\n",
       "32    0.100            (diapers, meat)\n",
       "33    0.100          (diapers, snacks)\n",
       "34    0.100            (soda, diapers)\n",
       "35    0.125           (water, diapers)\n",
       "36    0.100               (fish, eggs)\n",
       "37    0.100              (eggs, fruit)\n",
       "38    0.100               (eggs, meat)\n",
       "39    0.125               (eggs, milk)\n",
       "40    0.125       (toilet paper, eggs)\n",
       "41    0.100              (fish, fruit)\n",
       "42    0.125              (juice, fish)\n",
       "43    0.100               (soda, fish)\n",
       "44    0.100             (juice, fruit)\n",
       "45    0.100              (meat, fruit)\n",
       "46    0.125            (snacks, fruit)\n",
       "47    0.100             (water, fruit)\n",
       "48    0.100            (juice, snacks)\n",
       "49    0.150              (juice, soda)\n",
       "50    0.125             (water, juice)\n",
       "51    0.125       (toilet paper, meat)\n",
       "52    0.100              (water, meat)\n",
       "53    0.100      (toilet paper, pasta)\n",
       "54    0.125             (soda, snacks)\n",
       "55    0.100            (water, snacks)\n",
       "56    0.125              (water, soda)\n",
       "57    0.100      (water, toilet paper)\n",
       "58    0.100       (juice, fish, fruit)"
      ]
     },
     "execution_count": 17,
     "metadata": {},
     "output_type": "execute_result"
    }
   ],
   "source": [
    "# Apply Apriori\n",
    "frequent_itemsets = apriori(encoded_df, min_support=0.1, use_colnames=True)\n",
    "frequent_itemsets"
   ]
  },
  {
   "cell_type": "markdown",
   "id": "b3c471fa",
   "metadata": {},
   "source": [
    "Generating an association rules"
   ]
  },
  {
   "cell_type": "code",
   "execution_count": 18,
   "id": "28f16193",
   "metadata": {},
   "outputs": [
    {
     "name": "stdout",
     "output_type": "stream",
     "text": [
      "\n",
      "Association Rules:\n",
      "       antecedents     consequents  support  confidence      lift\n",
      "75         (juice)   (fish, fruit)      0.1    0.400000  4.000000\n",
      "74   (fish, fruit)         (juice)      0.1    1.000000  4.000000\n",
      "73  (juice, fruit)          (fish)      0.1    1.000000  4.000000\n",
      "76          (fish)  (juice, fruit)      0.1    0.400000  4.000000\n",
      "72   (juice, fish)         (fruit)      0.1    0.800000  2.666667\n",
      "..             ...             ...      ...         ...       ...\n",
      "10         (bread)  (toilet paper)      0.1    0.285714  1.038961\n",
      "13         (bread)         (water)      0.1    0.285714  1.038961\n",
      "12         (water)         (bread)      0.1    0.363636  1.038961\n",
      "27       (diapers)          (soda)      0.1    0.333333  1.025641\n",
      "26          (soda)       (diapers)      0.1    0.307692  1.025641\n",
      "\n",
      "[78 rows x 5 columns]\n",
      "\n",
      "Example Rule Analysis:\n",
      "If a customer buys [juice], they are likely to also buy [fish, fruit] (confidence: 0.40, lift: 4.00).\n",
      "Implication: This could be used in retail for product bundling or targeted recommendations.\n"
     ]
    }
   ],
   "source": [
    "# Generating association rules\n",
    "rules = association_rules(frequent_itemsets, metric=\"lift\", min_threshold=1)\n",
    "rules = rules.sort_values(by=\"lift\", ascending=False)\n",
    "\n",
    "print(\"\\nAssociation Rules:\")\n",
    "print(rules[['antecedents', 'consequents', 'support', 'confidence', 'lift']])\n",
    "if not rules.empty:\n",
    "    best_rule = rules.iloc[0]\n",
    "    antecedent = ', '.join(list(best_rule['antecedents']))\n",
    "    consequent = ', '.join(list(best_rule['consequents']))\n",
    "    print(\"\\nExample Rule Analysis:\")\n",
    "    print(f\"If a customer buys [{antecedent}], they are likely to also buy [{consequent}] \"\n",
    "        f\"(confidence: {best_rule['confidence']:.2f}, lift: {best_rule['lift']:.2f}).\")\n",
    "    print(\"Implication: This could be used in retail for product bundling or targeted recommendations.\")"
   ]
  }
 ],
 "metadata": {
  "kernelspec": {
   "display_name": "Python 3",
   "language": "python",
   "name": "python3"
  },
  "language_info": {
   "codemirror_mode": {
    "name": "ipython",
    "version": 3
   },
   "file_extension": ".py",
   "mimetype": "text/x-python",
   "name": "python",
   "nbconvert_exporter": "python",
   "pygments_lexer": "ipython3",
   "version": "3.13.5"
  }
 },
 "nbformat": 4,
 "nbformat_minor": 5
}
