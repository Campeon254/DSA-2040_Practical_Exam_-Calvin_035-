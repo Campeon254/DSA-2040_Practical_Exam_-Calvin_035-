{
 "cells": [
  {
   "cell_type": "markdown",
   "id": "9880d5b0",
   "metadata": {},
   "source": [
    "# Association Rule Mining\n",
    "- Generate synthetic transactional data (e.g., 20-50 transactions, each a list of 3-8 items from a pool of 20 items like ['milk', 'bread', 'beer', 'diapers', 'eggs', etc.]; use random.choices to create baskets with patterns, like frequent co-occurrences). Use Python lists or\n",
    "pandas. Include generation code.\n",
    "2. Analyze: Discuss one rule's implications (e.g., for retail recommendations)."
   ]
  },
  {
   "cell_type": "code",
   "execution_count": 2,
   "id": "a4915c7b",
   "metadata": {},
   "outputs": [
    {
     "data": {
      "application/vnd.microsoft.datawrangler.viewer.v0+json": {
       "columns": [
        {
         "name": "index",
         "rawType": "int64",
         "type": "integer"
        },
        {
         "name": "Transaction",
         "rawType": "int64",
         "type": "integer"
        },
        {
         "name": "Items",
         "rawType": "object",
         "type": "unknown"
        }
       ],
       "ref": "8c393d8c-866b-48c8-97aa-0b223cf710ec",
       "rows": [
        [
         "0",
         "1",
         "['fruit', 'eggs', 'milk']"
        ],
        [
         "1",
         "2",
         "['pasta', 'bread', 'eggs', 'beer', 'toilet paper', 'detergent', 'meat', 'milk']"
        ],
        [
         "2",
         "3",
         "['eggs', 'toilet paper', 'detergent', 'meat', 'diapers', 'beans', 'milk']"
        ],
        [
         "3",
         "4",
         "['coffee', 'fish', 'vegetables', 'diapers']"
        ],
        [
         "4",
         "5",
         "['fruit', 'snacks', 'beer', 'vegetables']"
        ]
       ],
       "shape": {
        "columns": 2,
        "rows": 5
       }
      },
      "text/html": [
       "<div>\n",
       "<style scoped>\n",
       "    .dataframe tbody tr th:only-of-type {\n",
       "        vertical-align: middle;\n",
       "    }\n",
       "\n",
       "    .dataframe tbody tr th {\n",
       "        vertical-align: top;\n",
       "    }\n",
       "\n",
       "    .dataframe thead th {\n",
       "        text-align: right;\n",
       "    }\n",
       "</style>\n",
       "<table border=\"1\" class=\"dataframe\">\n",
       "  <thead>\n",
       "    <tr style=\"text-align: right;\">\n",
       "      <th></th>\n",
       "      <th>Transaction</th>\n",
       "      <th>Items</th>\n",
       "    </tr>\n",
       "  </thead>\n",
       "  <tbody>\n",
       "    <tr>\n",
       "      <th>0</th>\n",
       "      <td>1</td>\n",
       "      <td>[fruit, eggs, milk]</td>\n",
       "    </tr>\n",
       "    <tr>\n",
       "      <th>1</th>\n",
       "      <td>2</td>\n",
       "      <td>[pasta, bread, eggs, beer, toilet paper, deter...</td>\n",
       "    </tr>\n",
       "    <tr>\n",
       "      <th>2</th>\n",
       "      <td>3</td>\n",
       "      <td>[eggs, toilet paper, detergent, meat, diapers,...</td>\n",
       "    </tr>\n",
       "    <tr>\n",
       "      <th>3</th>\n",
       "      <td>4</td>\n",
       "      <td>[coffee, fish, vegetables, diapers]</td>\n",
       "    </tr>\n",
       "    <tr>\n",
       "      <th>4</th>\n",
       "      <td>5</td>\n",
       "      <td>[fruit, snacks, beer, vegetables]</td>\n",
       "    </tr>\n",
       "  </tbody>\n",
       "</table>\n",
       "</div>"
      ],
      "text/plain": [
       "   Transaction                                              Items\n",
       "0            1                                [fruit, eggs, milk]\n",
       "1            2  [pasta, bread, eggs, beer, toilet paper, deter...\n",
       "2            3  [eggs, toilet paper, detergent, meat, diapers,...\n",
       "3            4                [coffee, fish, vegetables, diapers]\n",
       "4            5                  [fruit, snacks, beer, vegetables]"
      ]
     },
     "execution_count": 2,
     "metadata": {},
     "output_type": "execute_result"
    }
   ],
   "source": [
    "# Import libraries\n",
    "import pandas as pd\n",
    "import random\n",
    "from mlxtend.frequent_patterns import apriori, association_rules\n",
    "import warnings\n",
    "warnings.filterwarnings(\"ignore\")\n",
    "\n",
    "# Generate Synthetic transaction data\n",
    "random.seed(42)\n",
    "num_transactions = random.randint(20, 50)\n",
    "item_pool = ['milk', 'bread', 'beer', 'diapers', 'eggs', 'fruit', 'vegetables', 'snacks', 'cereal', 'juice',\n",
    "            'toilet paper', 'detergent', 'meat', 'fish', 'pasta', 'rice', 'beans', 'soda', 'water', 'coffee']\n",
    "transactions = []\n",
    "\n",
    "for _ in range(num_transactions):\n",
    "    basket_size = random.randint(3, 8)\n",
    "    basket = random.choices(item_pool, k=basket_size)\n",
    "    # remove duplicates\n",
    "    transactions.append(list(set(basket)))\n",
    "\n",
    "# Convert to DataFrame\n",
    "df = pd.DataFrame({'Transaction': range(1, num_transactions + 1),\n",
    "                'Items': transactions})\n",
    "df.head()"
   ]
  },
  {
   "cell_type": "markdown",
   "id": "169ad061",
   "metadata": {},
   "source": [
    "Prepare Data for Mining - One-Hot Encoding"
   ]
  },
  {
   "cell_type": "code",
   "execution_count": 3,
   "id": "71ff0713",
   "metadata": {},
   "outputs": [],
   "source": [
    "# Convert to One-Hot Encoding\n",
    "all_items = sorted(set(item for sublist in transactions for item in sublist))\n",
    "encoded_df = pd.DataFrame(0, index=range(len(transactions)), columns=all_items)\n",
    "\n",
    "for idx, basket in enumerate(transactions):\n",
    "    for item in basket:\n",
    "        encoded_df.loc[idx, item] = 1"
   ]
  },
  {
   "cell_type": "markdown",
   "id": "066afe76",
   "metadata": {},
   "source": [
    "Apply Apriori Algorithm to find most frequent itemsets"
   ]
  },
  {
   "cell_type": "code",
   "execution_count": 4,
   "id": "1e532875",
   "metadata": {},
   "outputs": [
    {
     "data": {
      "application/vnd.microsoft.datawrangler.viewer.v0+json": {
       "columns": [
        {
         "name": "index",
         "rawType": "int64",
         "type": "integer"
        },
        {
         "name": "support",
         "rawType": "float64",
         "type": "float"
        },
        {
         "name": "itemsets",
         "rawType": "object",
         "type": "unknown"
        }
       ],
       "ref": "764e547a-e19b-4bd5-b0c5-4dfad300fef8",
       "rows": [
        [
         "0",
         "0.175",
         "frozenset({'beans'})"
        ],
        [
         "1",
         "0.125",
         "frozenset({'beer'})"
        ],
        [
         "2",
         "0.35",
         "frozenset({'bread'})"
        ],
        [
         "3",
         "0.125",
         "frozenset({'cereal'})"
        ],
        [
         "4",
         "0.175",
         "frozenset({'coffee'})"
        ]
       ],
       "shape": {
        "columns": 2,
        "rows": 5
       }
      },
      "text/html": [
       "<div>\n",
       "<style scoped>\n",
       "    .dataframe tbody tr th:only-of-type {\n",
       "        vertical-align: middle;\n",
       "    }\n",
       "\n",
       "    .dataframe tbody tr th {\n",
       "        vertical-align: top;\n",
       "    }\n",
       "\n",
       "    .dataframe thead th {\n",
       "        text-align: right;\n",
       "    }\n",
       "</style>\n",
       "<table border=\"1\" class=\"dataframe\">\n",
       "  <thead>\n",
       "    <tr style=\"text-align: right;\">\n",
       "      <th></th>\n",
       "      <th>support</th>\n",
       "      <th>itemsets</th>\n",
       "    </tr>\n",
       "  </thead>\n",
       "  <tbody>\n",
       "    <tr>\n",
       "      <th>0</th>\n",
       "      <td>0.175</td>\n",
       "      <td>(beans)</td>\n",
       "    </tr>\n",
       "    <tr>\n",
       "      <th>1</th>\n",
       "      <td>0.125</td>\n",
       "      <td>(beer)</td>\n",
       "    </tr>\n",
       "    <tr>\n",
       "      <th>2</th>\n",
       "      <td>0.350</td>\n",
       "      <td>(bread)</td>\n",
       "    </tr>\n",
       "    <tr>\n",
       "      <th>3</th>\n",
       "      <td>0.125</td>\n",
       "      <td>(cereal)</td>\n",
       "    </tr>\n",
       "    <tr>\n",
       "      <th>4</th>\n",
       "      <td>0.175</td>\n",
       "      <td>(coffee)</td>\n",
       "    </tr>\n",
       "  </tbody>\n",
       "</table>\n",
       "</div>"
      ],
      "text/plain": [
       "   support  itemsets\n",
       "0    0.175   (beans)\n",
       "1    0.125    (beer)\n",
       "2    0.350   (bread)\n",
       "3    0.125  (cereal)\n",
       "4    0.175  (coffee)"
      ]
     },
     "execution_count": 4,
     "metadata": {},
     "output_type": "execute_result"
    }
   ],
   "source": [
    "# Apply Apriori\n",
    "frequent_itemsets = apriori(encoded_df, min_support=0.1, use_colnames=True)\n",
    "frequent_itemsets.head()"
   ]
  },
  {
   "cell_type": "markdown",
   "id": "b3c471fa",
   "metadata": {},
   "source": [
    "Generating an association rules"
   ]
  },
  {
   "cell_type": "code",
   "execution_count": 5,
   "id": "28f16193",
   "metadata": {},
   "outputs": [
    {
     "name": "stdout",
     "output_type": "stream",
     "text": [
      "\n",
      "Association Rules:\n",
      "       antecedents     consequents  support  confidence      lift\n",
      "75         (juice)   (fruit, fish)      0.1    0.400000  4.000000\n",
      "74   (fruit, fish)         (juice)      0.1    1.000000  4.000000\n",
      "72  (juice, fruit)          (fish)      0.1    1.000000  4.000000\n",
      "77          (fish)  (juice, fruit)      0.1    0.400000  4.000000\n",
      "73   (juice, fish)         (fruit)      0.1    0.800000  2.666667\n",
      "..             ...             ...      ...         ...       ...\n",
      "10         (bread)  (toilet paper)      0.1    0.285714  1.038961\n",
      "13         (water)         (bread)      0.1    0.363636  1.038961\n",
      "12         (bread)         (water)      0.1    0.285714  1.038961\n",
      "27       (diapers)          (soda)      0.1    0.333333  1.025641\n",
      "26          (soda)       (diapers)      0.1    0.307692  1.025641\n",
      "\n",
      "[78 rows x 5 columns]\n",
      "\n",
      "Example Rule Analysis:\n",
      "If a customer buys [juice], they are likely to also buy [fruit, fish] (confidence: 0.40, lift: 4.00).\n",
      "Implication: This could be used in retail for product bundling or targeted recommendations.\n"
     ]
    }
   ],
   "source": [
    "# Generating association rules\n",
    "rules = association_rules(frequent_itemsets, metric=\"lift\", min_threshold=1)\n",
    "rules = rules.sort_values(by=\"lift\", ascending=False)\n",
    "\n",
    "print(\"\\nAssociation Rules:\")\n",
    "print(rules[['antecedents', 'consequents', 'support', 'confidence', 'lift']])\n",
    "if not rules.empty:\n",
    "    best_rule = rules.iloc[0]\n",
    "    antecedent = ', '.join(list(best_rule['antecedents']))\n",
    "    consequent = ', '.join(list(best_rule['consequents']))\n",
    "    print(\"\\nExample Rule Analysis:\")\n",
    "    print(f\"If a customer buys [{antecedent}], they are likely to also buy [{consequent}] \"\n",
    "        f\"(confidence: {best_rule['confidence']:.2f}, lift: {best_rule['lift']:.2f}).\")\n",
    "    print(\"Implication: This could be used in retail for product bundling or targeted recommendations.\")"
   ]
  }
 ],
 "metadata": {
  "kernelspec": {
   "display_name": "Python 3",
   "language": "python",
   "name": "python3"
  },
  "language_info": {
   "codemirror_mode": {
    "name": "ipython",
    "version": 3
   },
   "file_extension": ".py",
   "mimetype": "text/x-python",
   "name": "python",
   "nbconvert_exporter": "python",
   "pygments_lexer": "ipython3",
   "version": "3.13.5"
  }
 },
 "nbformat": 4,
 "nbformat_minor": 5
}
